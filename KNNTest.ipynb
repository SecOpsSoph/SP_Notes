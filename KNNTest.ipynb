{
 "cells": [
  {
   "cell_type": "markdown",
   "id": "f9a482eb-5aac-4053-9c75-319ee2f83aee",
   "metadata": {},
   "source": [
    "Resources can be found https://github.com/codebasics/py/tree/master/ML and https://www.youtube.com/watch?v=CQveSaMyEwM"
   ]
  },
  {
   "cell_type": "markdown",
   "id": "b50e7a29-32a1-4117-945a-71ec051ccafc",
   "metadata": {},
   "source": [
    "Page for testing/learning the use of KNN witch sci-kit learn using <b>IRIS flower </b> example"
   ]
  },
  {
   "cell_type": "markdown",
   "id": "798312ab-f343-45ef-85a4-5b74376d9b10",
   "metadata": {},
   "source": [
    "> k-number is important to make appropirate (not too large, not too small) consider the amount of data points"
   ]
  },
  {
   "cell_type": "markdown",
   "id": "eeb6a58b-903a-452e-9310-54cbadd30361",
   "metadata": {},
   "source": [
    "> consider feature selection, what is usefull/informative and what is not"
   ]
  },
  {
   "cell_type": "markdown",
   "id": "5a30c409-25fa-4a5a-a426-42cc68c4ce92",
   "metadata": {},
   "source": [
    "> consider data pre-processing"
   ]
  },
  {
   "cell_type": "code",
   "execution_count": 9,
   "id": "bdf1753a-e547-405c-9a90-eb1d25e2f0e8",
   "metadata": {},
   "outputs": [],
   "source": [
    "import numpy as np\n",
    "import pandas as pd\n",
    "\n",
    "from sklearn.datasets import load_iris"
   ]
  },
  {
   "cell_type": "markdown",
   "id": "7660727a-f239-4556-b7b5-0c57846a9b84",
   "metadata": {},
   "source": [
    "I had issues with this so i followed advice on https://stackoverflow.com/questions/67795808/how-to-install-sklearn-package-in-jupyter-notebook-in-pycharm and ran this:\n",
    "\n",
    "/Library/Developer/CommandLineTools/usr/bin/python3 -m pip install sklearn\n",
    "and then the same with matplotlib etc\n",
    "\n",
    "<b> For any pc: </b> go into to python and run\n",
    "\n",
    "import sys\n",
    "\n",
    "print(sys.executable)\n",
    "\n",
    "This will give you the path you need to then pip install in\n"
   ]
  },
  {
   "cell_type": "markdown",
   "id": "8f54f315-034f-45ae-b70e-f4befc6575cd",
   "metadata": {},
   "source": [
    "<b> Next Up: </b> importing the dataset into an array"
   ]
  },
  {
   "cell_type": "code",
   "execution_count": 10,
   "id": "46151fa0-3578-42cf-bb85-8dcee9ddb429",
   "metadata": {},
   "outputs": [],
   "source": [
    "iris= load_iris()"
   ]
  },
  {
   "cell_type": "markdown",
   "id": "77790610-a186-4fa6-9222-cc6fe2fae084",
   "metadata": {},
   "source": [
    "Then displaying the <b>feature names</b> of the dataset"
   ]
  },
  {
   "cell_type": "code",
   "execution_count": 11,
   "id": "9a6a35e3-0bac-4132-9d3a-baf3bd9befda",
   "metadata": {},
   "outputs": [
    {
     "data": {
      "text/plain": [
       "['sepal length (cm)',\n",
       " 'sepal width (cm)',\n",
       " 'petal length (cm)',\n",
       " 'petal width (cm)']"
      ]
     },
     "execution_count": 11,
     "metadata": {},
     "output_type": "execute_result"
    }
   ],
   "source": [
    "iris.feature_names"
   ]
  },
  {
   "cell_type": "markdown",
   "id": "11875311-7250-4236-a415-95473a37e9a0",
   "metadata": {},
   "source": [
    "Then displaying the <b> target names </b>"
   ]
  },
  {
   "cell_type": "code",
   "execution_count": 12,
   "id": "9246a0e2-fdec-48f0-a9fa-c257a1f84e91",
   "metadata": {},
   "outputs": [
    {
     "data": {
      "text/plain": [
       "array(['setosa', 'versicolor', 'virginica'], dtype='<U10')"
      ]
     },
     "execution_count": 12,
     "metadata": {},
     "output_type": "execute_result"
    }
   ],
   "source": [
    "iris.target_names"
   ]
  },
  {
   "cell_type": "markdown",
   "id": "8211d8aa-09c8-43b3-bd24-ca64f25fdc6e",
   "metadata": {},
   "source": [
    "<b> NOTE: </b> when looking at my data-set it will be first important to view feature and target names so i'm comfortable with both"
   ]
  },
  {
   "cell_type": "markdown",
   "id": "3c2ce1b2-7df6-451b-b880-9b5c6bcfb084",
   "metadata": {},
   "source": [
    "<b> For this example </b> we are using the <b> features </b> to identify what <b> target </b> it is. e.g. using septal and petal length to decide what type of flower it is"
   ]
  },
  {
   "cell_type": "markdown",
   "id": "4312bcfb-2e7f-435e-b396-a43d0eff0f74",
   "metadata": {},
   "source": [
    "<b> NEXT: </b> i'll create a dataframe with the data in it and display the top n rows ( df.head() selects 5 as default"
   ]
  },
  {
   "cell_type": "code",
   "execution_count": 13,
   "id": "a717ea0f-ed0d-4f29-bc84-b6e4cf3fd047",
   "metadata": {},
   "outputs": [
    {
     "data": {
      "text/html": [
       "<div>\n",
       "<style scoped>\n",
       "    .dataframe tbody tr th:only-of-type {\n",
       "        vertical-align: middle;\n",
       "    }\n",
       "\n",
       "    .dataframe tbody tr th {\n",
       "        vertical-align: top;\n",
       "    }\n",
       "\n",
       "    .dataframe thead th {\n",
       "        text-align: right;\n",
       "    }\n",
       "</style>\n",
       "<table border=\"1\" class=\"dataframe\">\n",
       "  <thead>\n",
       "    <tr style=\"text-align: right;\">\n",
       "      <th></th>\n",
       "      <th>sepal length (cm)</th>\n",
       "      <th>sepal width (cm)</th>\n",
       "      <th>petal length (cm)</th>\n",
       "      <th>petal width (cm)</th>\n",
       "    </tr>\n",
       "  </thead>\n",
       "  <tbody>\n",
       "    <tr>\n",
       "      <th>0</th>\n",
       "      <td>5.1</td>\n",
       "      <td>3.5</td>\n",
       "      <td>1.4</td>\n",
       "      <td>0.2</td>\n",
       "    </tr>\n",
       "    <tr>\n",
       "      <th>1</th>\n",
       "      <td>4.9</td>\n",
       "      <td>3.0</td>\n",
       "      <td>1.4</td>\n",
       "      <td>0.2</td>\n",
       "    </tr>\n",
       "    <tr>\n",
       "      <th>2</th>\n",
       "      <td>4.7</td>\n",
       "      <td>3.2</td>\n",
       "      <td>1.3</td>\n",
       "      <td>0.2</td>\n",
       "    </tr>\n",
       "    <tr>\n",
       "      <th>3</th>\n",
       "      <td>4.6</td>\n",
       "      <td>3.1</td>\n",
       "      <td>1.5</td>\n",
       "      <td>0.2</td>\n",
       "    </tr>\n",
       "    <tr>\n",
       "      <th>4</th>\n",
       "      <td>5.0</td>\n",
       "      <td>3.6</td>\n",
       "      <td>1.4</td>\n",
       "      <td>0.2</td>\n",
       "    </tr>\n",
       "  </tbody>\n",
       "</table>\n",
       "</div>"
      ],
      "text/plain": [
       "   sepal length (cm)  sepal width (cm)  petal length (cm)  petal width (cm)\n",
       "0                5.1               3.5                1.4               0.2\n",
       "1                4.9               3.0                1.4               0.2\n",
       "2                4.7               3.2                1.3               0.2\n",
       "3                4.6               3.1                1.5               0.2\n",
       "4                5.0               3.6                1.4               0.2"
      ]
     },
     "execution_count": 13,
     "metadata": {},
     "output_type": "execute_result"
    }
   ],
   "source": [
    "df = pd.DataFrame(iris.data,columns=iris.feature_names)\n",
    "df.head()"
   ]
  },
  {
   "cell_type": "markdown",
   "id": "dca3b47e-d534-481f-9677-55b38e9ffc89",
   "metadata": {},
   "source": [
    "<b> Pandas df.shape </b> returns a tuple representing the dimensionality of the dataframe\n",
    "(numberOfRows,numberOfColumns)\n"
   ]
  },
  {
   "cell_type": "code",
   "execution_count": 14,
   "id": "61478bab-1d86-4bd1-9f9a-ba8af2ca3fed",
   "metadata": {},
   "outputs": [
    {
     "data": {
      "text/plain": [
       "(150, 4)"
      ]
     },
     "execution_count": 14,
     "metadata": {},
     "output_type": "execute_result"
    }
   ],
   "source": [
    "df.shape"
   ]
  },
  {
   "cell_type": "markdown",
   "id": "857e39d1-01fe-4919-ae67-e3077cfa05d7",
   "metadata": {},
   "source": [
    "So the <b> DF </b> has 150 rows (entries) and has 4 columns in this instance"
   ]
  },
  {
   "cell_type": "markdown",
   "id": "f84a5ffa-1017-4950-bf3e-887ae60c47fb",
   "metadata": {},
   "source": [
    "Next up we will be adding in the <b> target </b> into the DF"
   ]
  },
  {
   "cell_type": "code",
   "execution_count": 15,
   "id": "eaa5f7bb-7b19-4446-9b54-3fcf40fc7201",
   "metadata": {},
   "outputs": [],
   "source": [
    "df['target']= iris.target"
   ]
  },
  {
   "cell_type": "code",
   "execution_count": 16,
   "id": "021c3c61-2d22-49c9-8aa2-e0252a125b7b",
   "metadata": {},
   "outputs": [
    {
     "data": {
      "text/html": [
       "<div>\n",
       "<style scoped>\n",
       "    .dataframe tbody tr th:only-of-type {\n",
       "        vertical-align: middle;\n",
       "    }\n",
       "\n",
       "    .dataframe tbody tr th {\n",
       "        vertical-align: top;\n",
       "    }\n",
       "\n",
       "    .dataframe thead th {\n",
       "        text-align: right;\n",
       "    }\n",
       "</style>\n",
       "<table border=\"1\" class=\"dataframe\">\n",
       "  <thead>\n",
       "    <tr style=\"text-align: right;\">\n",
       "      <th></th>\n",
       "      <th>sepal length (cm)</th>\n",
       "      <th>sepal width (cm)</th>\n",
       "      <th>petal length (cm)</th>\n",
       "      <th>petal width (cm)</th>\n",
       "      <th>target</th>\n",
       "    </tr>\n",
       "  </thead>\n",
       "  <tbody>\n",
       "    <tr>\n",
       "      <th>0</th>\n",
       "      <td>5.1</td>\n",
       "      <td>3.5</td>\n",
       "      <td>1.4</td>\n",
       "      <td>0.2</td>\n",
       "      <td>0</td>\n",
       "    </tr>\n",
       "    <tr>\n",
       "      <th>1</th>\n",
       "      <td>4.9</td>\n",
       "      <td>3.0</td>\n",
       "      <td>1.4</td>\n",
       "      <td>0.2</td>\n",
       "      <td>0</td>\n",
       "    </tr>\n",
       "    <tr>\n",
       "      <th>2</th>\n",
       "      <td>4.7</td>\n",
       "      <td>3.2</td>\n",
       "      <td>1.3</td>\n",
       "      <td>0.2</td>\n",
       "      <td>0</td>\n",
       "    </tr>\n",
       "    <tr>\n",
       "      <th>3</th>\n",
       "      <td>4.6</td>\n",
       "      <td>3.1</td>\n",
       "      <td>1.5</td>\n",
       "      <td>0.2</td>\n",
       "      <td>0</td>\n",
       "    </tr>\n",
       "    <tr>\n",
       "      <th>4</th>\n",
       "      <td>5.0</td>\n",
       "      <td>3.6</td>\n",
       "      <td>1.4</td>\n",
       "      <td>0.2</td>\n",
       "      <td>0</td>\n",
       "    </tr>\n",
       "  </tbody>\n",
       "</table>\n",
       "</div>"
      ],
      "text/plain": [
       "   sepal length (cm)  sepal width (cm)  petal length (cm)  petal width (cm)  \\\n",
       "0                5.1               3.5                1.4               0.2   \n",
       "1                4.9               3.0                1.4               0.2   \n",
       "2                4.7               3.2                1.3               0.2   \n",
       "3                4.6               3.1                1.5               0.2   \n",
       "4                5.0               3.6                1.4               0.2   \n",
       "\n",
       "   target  \n",
       "0       0  \n",
       "1       0  \n",
       "2       0  \n",
       "3       0  \n",
       "4       0  "
      ]
     },
     "execution_count": 16,
     "metadata": {},
     "output_type": "execute_result"
    }
   ],
   "source": [
    "df.head()"
   ]
  },
  {
   "cell_type": "markdown",
   "id": "3e30f756-8b8d-4cb7-b993-3e7323d830a6",
   "metadata": {},
   "source": [
    "<b>remembering </b>"
   ]
  },
  {
   "cell_type": "code",
   "execution_count": 17,
   "id": "8b656a9f-bc09-4018-a9eb-3d082905a102",
   "metadata": {},
   "outputs": [
    {
     "data": {
      "text/plain": [
       "array(['setosa', 'versicolor', 'virginica'], dtype='<U10')"
      ]
     },
     "execution_count": 17,
     "metadata": {},
     "output_type": "execute_result"
    }
   ],
   "source": [
    "iris.target_names"
   ]
  },
  {
   "cell_type": "markdown",
   "id": "58e92918-7099-4537-93d9-d8c3067577bf",
   "metadata": {},
   "source": [
    "where target = 0 in the far column of the df, this means the flower is setosa (based on location in array)"
   ]
  },
  {
   "cell_type": "markdown",
   "id": "b449f3e1-baeb-438a-a1da-f115a5e3d824",
   "metadata": {},
   "source": [
    "<b> next: </b> i want to display the parts of df where the target = 1 ( and therefore is versicolor)"
   ]
  },
  {
   "cell_type": "code",
   "execution_count": 18,
   "id": "7b8c9347-24c5-4e05-89d1-e1ca4e870d42",
   "metadata": {},
   "outputs": [
    {
     "data": {
      "text/html": [
       "<div>\n",
       "<style scoped>\n",
       "    .dataframe tbody tr th:only-of-type {\n",
       "        vertical-align: middle;\n",
       "    }\n",
       "\n",
       "    .dataframe tbody tr th {\n",
       "        vertical-align: top;\n",
       "    }\n",
       "\n",
       "    .dataframe thead th {\n",
       "        text-align: right;\n",
       "    }\n",
       "</style>\n",
       "<table border=\"1\" class=\"dataframe\">\n",
       "  <thead>\n",
       "    <tr style=\"text-align: right;\">\n",
       "      <th></th>\n",
       "      <th>sepal length (cm)</th>\n",
       "      <th>sepal width (cm)</th>\n",
       "      <th>petal length (cm)</th>\n",
       "      <th>petal width (cm)</th>\n",
       "      <th>target</th>\n",
       "    </tr>\n",
       "  </thead>\n",
       "  <tbody>\n",
       "    <tr>\n",
       "      <th>50</th>\n",
       "      <td>7.0</td>\n",
       "      <td>3.2</td>\n",
       "      <td>4.7</td>\n",
       "      <td>1.4</td>\n",
       "      <td>1</td>\n",
       "    </tr>\n",
       "    <tr>\n",
       "      <th>51</th>\n",
       "      <td>6.4</td>\n",
       "      <td>3.2</td>\n",
       "      <td>4.5</td>\n",
       "      <td>1.5</td>\n",
       "      <td>1</td>\n",
       "    </tr>\n",
       "    <tr>\n",
       "      <th>52</th>\n",
       "      <td>6.9</td>\n",
       "      <td>3.1</td>\n",
       "      <td>4.9</td>\n",
       "      <td>1.5</td>\n",
       "      <td>1</td>\n",
       "    </tr>\n",
       "    <tr>\n",
       "      <th>53</th>\n",
       "      <td>5.5</td>\n",
       "      <td>2.3</td>\n",
       "      <td>4.0</td>\n",
       "      <td>1.3</td>\n",
       "      <td>1</td>\n",
       "    </tr>\n",
       "    <tr>\n",
       "      <th>54</th>\n",
       "      <td>6.5</td>\n",
       "      <td>2.8</td>\n",
       "      <td>4.6</td>\n",
       "      <td>1.5</td>\n",
       "      <td>1</td>\n",
       "    </tr>\n",
       "  </tbody>\n",
       "</table>\n",
       "</div>"
      ],
      "text/plain": [
       "    sepal length (cm)  sepal width (cm)  petal length (cm)  petal width (cm)  \\\n",
       "50                7.0               3.2                4.7               1.4   \n",
       "51                6.4               3.2                4.5               1.5   \n",
       "52                6.9               3.1                4.9               1.5   \n",
       "53                5.5               2.3                4.0               1.3   \n",
       "54                6.5               2.8                4.6               1.5   \n",
       "\n",
       "    target  \n",
       "50       1  \n",
       "51       1  \n",
       "52       1  \n",
       "53       1  \n",
       "54       1  "
      ]
     },
     "execution_count": 18,
     "metadata": {},
     "output_type": "execute_result"
    }
   ],
   "source": [
    "df[df.target==1].head()"
   ]
  },
  {
   "cell_type": "markdown",
   "id": "ebf32bc2-c5ab-418a-8dd5-797bd362021e",
   "metadata": {},
   "source": [
    "<b> next: </b> i can do this again to show number 2 in the array 'Virginica' <b> etc etc </b>"
   ]
  },
  {
   "cell_type": "code",
   "execution_count": 19,
   "id": "219076ab-928b-475f-af7b-985bcfe8c6bd",
   "metadata": {},
   "outputs": [
    {
     "data": {
      "text/html": [
       "<div>\n",
       "<style scoped>\n",
       "    .dataframe tbody tr th:only-of-type {\n",
       "        vertical-align: middle;\n",
       "    }\n",
       "\n",
       "    .dataframe tbody tr th {\n",
       "        vertical-align: top;\n",
       "    }\n",
       "\n",
       "    .dataframe thead th {\n",
       "        text-align: right;\n",
       "    }\n",
       "</style>\n",
       "<table border=\"1\" class=\"dataframe\">\n",
       "  <thead>\n",
       "    <tr style=\"text-align: right;\">\n",
       "      <th></th>\n",
       "      <th>sepal length (cm)</th>\n",
       "      <th>sepal width (cm)</th>\n",
       "      <th>petal length (cm)</th>\n",
       "      <th>petal width (cm)</th>\n",
       "      <th>target</th>\n",
       "    </tr>\n",
       "  </thead>\n",
       "  <tbody>\n",
       "    <tr>\n",
       "      <th>100</th>\n",
       "      <td>6.3</td>\n",
       "      <td>3.3</td>\n",
       "      <td>6.0</td>\n",
       "      <td>2.5</td>\n",
       "      <td>2</td>\n",
       "    </tr>\n",
       "    <tr>\n",
       "      <th>101</th>\n",
       "      <td>5.8</td>\n",
       "      <td>2.7</td>\n",
       "      <td>5.1</td>\n",
       "      <td>1.9</td>\n",
       "      <td>2</td>\n",
       "    </tr>\n",
       "    <tr>\n",
       "      <th>102</th>\n",
       "      <td>7.1</td>\n",
       "      <td>3.0</td>\n",
       "      <td>5.9</td>\n",
       "      <td>2.1</td>\n",
       "      <td>2</td>\n",
       "    </tr>\n",
       "    <tr>\n",
       "      <th>103</th>\n",
       "      <td>6.3</td>\n",
       "      <td>2.9</td>\n",
       "      <td>5.6</td>\n",
       "      <td>1.8</td>\n",
       "      <td>2</td>\n",
       "    </tr>\n",
       "    <tr>\n",
       "      <th>104</th>\n",
       "      <td>6.5</td>\n",
       "      <td>3.0</td>\n",
       "      <td>5.8</td>\n",
       "      <td>2.2</td>\n",
       "      <td>2</td>\n",
       "    </tr>\n",
       "  </tbody>\n",
       "</table>\n",
       "</div>"
      ],
      "text/plain": [
       "     sepal length (cm)  sepal width (cm)  petal length (cm)  petal width (cm)  \\\n",
       "100                6.3               3.3                6.0               2.5   \n",
       "101                5.8               2.7                5.1               1.9   \n",
       "102                7.1               3.0                5.9               2.1   \n",
       "103                6.3               2.9                5.6               1.8   \n",
       "104                6.5               3.0                5.8               2.2   \n",
       "\n",
       "     target  \n",
       "100       2  \n",
       "101       2  \n",
       "102       2  \n",
       "103       2  \n",
       "104       2  "
      ]
     },
     "execution_count": 19,
     "metadata": {},
     "output_type": "execute_result"
    }
   ],
   "source": [
    "df[df.target==2].head()"
   ]
  },
  {
   "cell_type": "markdown",
   "id": "c8849b7c-058e-4bfd-aa00-1170fb029c95",
   "metadata": {},
   "source": [
    "From the data above we can see we have 150 records, considering the tables entries 0-49 are setosa, 50-99 are versicolor and 100-150 are virginica"
   ]
  },
  {
   "cell_type": "markdown",
   "id": "242469e6-3ec9-41ae-b259-8933fdd9edee",
   "metadata": {},
   "source": [
    "These are our <b> training samples </b>"
   ]
  },
  {
   "cell_type": "markdown",
   "id": "056d07e0-7fe1-4829-9e78-be51cc485388",
   "metadata": {},
   "source": [
    "<b> from here we want to split the main data frame into 3 based upon targets </b>"
   ]
  },
  {
   "cell_type": "code",
   "execution_count": 20,
   "id": "e3d7435e-968d-4dba-ac5a-49f96eb506af",
   "metadata": {},
   "outputs": [],
   "source": [
    "df0 = df[:50]\n",
    "df1 = df[50:100]\n",
    "df2 = df[100:]"
   ]
  },
  {
   "cell_type": "markdown",
   "id": "85640805-e69d-4826-8e4a-489b3edb2e3e",
   "metadata": {},
   "source": [
    "Next we can start to think about <b>plotting these points </b> on a graph"
   ]
  },
  {
   "cell_type": "code",
   "execution_count": 21,
   "id": "266e3ff2-e984-4d9c-a3f6-206d609eb0a7",
   "metadata": {},
   "outputs": [],
   "source": [
    "import matplotlib.pyplot as plt\n",
    "%matplotlib inline"
   ]
  },
  {
   "cell_type": "markdown",
   "id": "0f9d5c5e-3846-497d-9120-5679fa80b4d9",
   "metadata": {},
   "source": [
    "<b> Sepal length vs Sepal width (Setosa vs Versicolor) </b>"
   ]
  },
  {
   "cell_type": "code",
   "execution_count": 22,
   "id": "11f39941-6931-4b7f-b6e6-4aefc0c6eafb",
   "metadata": {},
   "outputs": [
    {
     "data": {
      "text/plain": [
       "<matplotlib.collections.PathCollection at 0x1d839d26610>"
      ]
     },
     "execution_count": 22,
     "metadata": {},
     "output_type": "execute_result"
    },
    {
     "data": {
      "image/png": "[encoded data removed]",
      "text/plain": [
       "<Figure size 432x288 with 1 Axes>"
      ]
     },
     "metadata": {
      "needs_background": "light"
     },
     "output_type": "display_data"
    }
   ],
   "source": [
    "plt.xlabel('Sepal Length')\n",
    "plt.ylabel('Sepal Width')\n",
    "plt.scatter(df0['sepal length (cm)'], df0['sepal width (cm)'], color=\"green\", marker='+')\n",
    "plt.scatter(df1['sepal length (cm)'], df1['sepal width (cm)'], color=\"blue\", marker='+')"
   ]
  },
  {
   "cell_type": "markdown",
   "id": "9011d369-464d-4a4c-b82a-882de7031a53",
   "metadata": {},
   "source": [
    "<b> Petal length vs Petal width (Setosa vs Versicolor) </b>"
   ]
  },
  {
   "cell_type": "code",
   "execution_count": 23,
   "id": "8000765e-267e-425d-aa7f-e5671cc6ffa2",
   "metadata": {},
   "outputs": [
    {
     "data": {
      "text/plain": [
       "<matplotlib.collections.PathCollection at 0x1d83a218b50>"
      ]
     },
     "execution_count": 23,
     "metadata": {},
     "output_type": "execute_result"
    },
    {
     "data": {
      "image/png": "[encoded data removed]",
      "text/plain": [
       "<Figure size 432x288 with 1 Axes>"
      ]
     },
     "metadata": {
      "needs_background": "light"
     },
     "output_type": "display_data"
    }
   ],
   "source": [
    "plt.xlabel('Petal Length')\n",
    "plt.ylabel('Petal Width')\n",
    "plt.scatter(df0['petal length (cm)'], df0['petal width (cm)'], color=\"green\", marker='+')\n",
    "plt.scatter(df1['petal length (cm)'], df1['petal width (cm)'], color=\"blue\", marker='+')"
   ]
  },
  {
   "cell_type": "markdown",
   "id": "fafc63e8-d110-4e6e-a3a9-213333922073",
   "metadata": {},
   "source": [
    "<b> TRAIN TEST SPLIT </b>\n",
    "We now need to start thinking of how we want to split the dataset so we can use some for training and some for testing "
   ]
  },
  {
   "cell_type": "code",
   "execution_count": 24,
   "id": "bed38aba-949d-474d-8ec1-efe7fc557076",
   "metadata": {},
   "outputs": [],
   "source": [
    "from sklearn.model_selection import train_test_split "
   ]
  },
  {
   "cell_type": "markdown",
   "id": "b6045b39-f39d-48c4-9f24-a4b675e1f6ac",
   "metadata": {},
   "source": [
    "The code below sets the x and y values. For x it drops the target and flower name columns"
   ]
  },
  {
   "cell_type": "code",
   "execution_count": 25,
   "id": "b1cf3efd-19f2-46c1-b360-723f7d041393",
   "metadata": {},
   "outputs": [],
   "source": [
    "X = df.drop(['target'], axis ='columns')\n",
    "y = df.target"
   ]
  },
  {
   "cell_type": "markdown",
   "id": "29a241ac-c2b0-4bce-9a37-98246a45a037",
   "metadata": {},
   "source": [
    "Next we will split the data up into training and testing sets"
   ]
  },
  {
   "cell_type": "code",
   "execution_count": 26,
   "id": "ed8ca2c3-0f46-43dd-a5c9-5fb6b744d13c",
   "metadata": {},
   "outputs": [],
   "source": [
    "X_train, X_test, y_train, y_test= train_test_split(X, y, test_size=0.2, random_state=1)"
   ]
  },
  {
   "cell_type": "markdown",
   "id": "aacd9248-37ca-4c02-9415-65c75a3b8f6d",
   "metadata": {},
   "source": [
    "Now we can see that the size of X_train is 120 wheras x test is 30 (same with y)"
   ]
  },
  {
   "cell_type": "code",
   "execution_count": 27,
   "id": "c9f702e6-ad91-48a2-8ed7-f6d2a3d73ea2",
   "metadata": {},
   "outputs": [
    {
     "data": {
      "text/plain": [
       "30"
      ]
     },
     "execution_count": 27,
     "metadata": {},
     "output_type": "execute_result"
    }
   ],
   "source": [
    "len(X_test)"
   ]
  },
  {
   "cell_type": "code",
   "execution_count": 28,
   "id": "c30dc023-a3fd-4e7f-ad28-a5f7ee5a9d87",
   "metadata": {},
   "outputs": [
    {
     "data": {
      "text/plain": [
       "120"
      ]
     },
     "execution_count": 28,
     "metadata": {},
     "output_type": "execute_result"
    }
   ],
   "source": [
    "len(X_train)"
   ]
  },
  {
   "cell_type": "markdown",
   "id": "7beaa0de-8dd2-47f8-8d9d-ca19dd6909c0",
   "metadata": {},
   "source": [
    "<b> Create KNN: </b> K-Nearest Neighbour Classifier"
   ]
  },
  {
   "cell_type": "markdown",
   "id": "b337d500-ab7f-4d3f-b57a-c459ea3d2631",
   "metadata": {},
   "source": [
    "<b> Documentation: </b> https://scikit-learn.org/stable/modules/generated/sklearn.neighbors.KNeighborsClassifier.html\n",
    "<b> Tutorial followed: </b> https://www.youtube.com/watch?v=CQveSaMyEwM"
   ]
  },
  {
   "cell_type": "code",
   "execution_count": 29,
   "id": "0c3d006f-8a26-434c-b644-d40088121f3c",
   "metadata": {},
   "outputs": [],
   "source": [
    "from sklearn.neighbors import KNeighborsClassifier"
   ]
  },
  {
   "cell_type": "code",
   "execution_count": 30,
   "id": "82a0b14c-374b-43c5-9339-2cc1cffdf4e0",
   "metadata": {},
   "outputs": [
    {
     "data": {
      "text/plain": [
       "KNeighborsClassifier(n_neighbors=10)"
      ]
     },
     "execution_count": 30,
     "metadata": {},
     "output_type": "execute_result"
    }
   ],
   "source": [
    "knn = KNeighborsClassifier(n_neighbors=10)\n",
    "knn.fit(X_train, y_train)"
   ]
  },
  {
   "cell_type": "markdown",
   "id": "5761c1a8-f46d-4fef-99e6-83a995fbe03c",
   "metadata": {},
   "source": [
    "Now the classifer is trained. next up compute the score"
   ]
  },
  {
   "cell_type": "code",
   "execution_count": 31,
   "id": "47d5d24d-0768-4395-9905-752e88254dee",
   "metadata": {},
   "outputs": [
    {
     "data": {
      "text/plain": [
       "0.9666666666666667"
      ]
     },
     "execution_count": 31,
     "metadata": {},
     "output_type": "execute_result"
    }
   ],
   "source": [
    "knn.score(X_test,y_test)"
   ]
  },
  {
   "cell_type": "markdown",
   "id": "e4097afe-9e14-468b-b157-0139a2bd88d7",
   "metadata": {},
   "source": [
    "The model is so accurate it got all the predictions right (that is what 1 symbolises) when k = 3"
   ]
  },
  {
   "cell_type": "markdown",
   "id": "cfe81825-b385-47be-ba85-0b6518cfb648",
   "metadata": {},
   "source": [
    "Different k values will give diff scores. Working out the best k value is very important. Can use some tools to do so (gridseachcv or k fold cross validation: https://machinelearningmastery.com/k-fold-cross-validation/)"
   ]
  },
  {
   "cell_type": "markdown",
   "id": "fe86ee1b-cf0c-484a-b0fe-8299018bd390",
   "metadata": {},
   "source": [
    "Now going to <b> change the k value to 10 for demo purposes </b>"
   ]
  },
  {
   "cell_type": "markdown",
   "id": "5edaa651-1df5-427a-9641-c484f33542b1",
   "metadata": {},
   "source": [
    "Now to see <b> where it did and didn't get the prediction right </b> where the k value is set to 10"
   ]
  },
  {
   "cell_type": "code",
   "execution_count": 32,
   "id": "9e8e2ece-28d3-4bba-9397-8d34d316e8b9",
   "metadata": {},
   "outputs": [
    {
     "data": {
      "text/plain": [
       "array([[11,  0,  0],\n",
       "       [ 0, 12,  1],\n",
       "       [ 0,  0,  6]], dtype=int64)"
      ]
     },
     "execution_count": 32,
     "metadata": {},
     "output_type": "execute_result"
    }
   ],
   "source": [
    "from sklearn.metrics import confusion_matrix\n",
    "\n",
    "y_pred = knn.predict(X_test)\n",
    "confusion_matrix(y_test, y_pred)\n",
    "\n",
    "cm= confusion_matrix(y_test, y_pred)\n",
    "cm"
   ]
  },
  {
   "cell_type": "markdown",
   "id": "72810c1b-e054-4e46-b3e5-6f6b717b12fc",
   "metadata": {},
   "source": [
    "This gives us a simple array output of the results but we can make this better/easier to understand by using the code below"
   ]
  },
  {
   "cell_type": "code",
   "execution_count": 33,
   "id": "5badd2e8-f2a4-4912-9488-09cc4e693a47",
   "metadata": {},
   "outputs": [
    {
     "data": {
      "text/plain": [
       "Text(42.0, 0.5, 'Truth')"
      ]
     },
     "execution_count": 33,
     "metadata": {},
     "output_type": "execute_result"
    },
    {
     "data": {
      "image/png": "[encoded data removed]",
      "text/plain": [
       "<Figure size 504x360 with 2 Axes>"
      ]
     },
     "metadata": {
      "needs_background": "light"
     },
     "output_type": "display_data"
    }
   ],
   "source": [
    "%matplotlib inline\n",
    "import matplotlib.pyplot as plt\n",
    "import seaborn as sn\n",
    "plt.figure(figsize= (7,5))\n",
    "sn.heatmap(cm, annot=True)\n",
    "plt.xlabel('Predicted')\n",
    "plt.ylabel('Truth')"
   ]
  },
  {
   "cell_type": "markdown",
   "id": "a3809c18-1b6c-46af-b311-76b77818de27",
   "metadata": {},
   "source": [
    "This shows the <b> same exact grid as above but in a clearer way </b>"
   ]
  },
  {
   "cell_type": "markdown",
   "id": "d6deb542-0475-46b3-bb86-96ba53a5b5eb",
   "metadata": {},
   "source": [
    "> Anything on the diagonal are the <b> correct predictions </b> "
   ]
  },
  {
   "cell_type": "markdown",
   "id": "563fccbf-5981-44a5-8629-15938d90e529",
   "metadata": {},
   "source": [
    "- For example: the 0 value stands for setosa so where truth =0 and predicted =0 then this was correctly predicted.\n",
    "- Then: where 2 is predicted but 1 is the truth, this has predicted this inccorectly on one occasion.\n",
    "- We can see that out of the 30 data points, only one was predicted incorrectly"
   ]
  },
  {
   "cell_type": "markdown",
   "id": "dd69237d-9cd9-443e-b37e-dd12351a1cc7",
   "metadata": {},
   "source": [
    "This will be <b> very useful for evaluating my model </b>"
   ]
  },
  {
   "cell_type": "markdown",
   "id": "fd084590-044d-4938-b51d-147635fccff7",
   "metadata": {},
   "source": [
    "We can also use the <b> classification report </b> to evaluate the results.\n",
    "> If you do this without using a print statement the formatting will be awful"
   ]
  },
  {
   "cell_type": "code",
   "execution_count": 34,
   "id": "1aeb5ae7-830c-4d0a-89d8-4be703aead12",
   "metadata": {},
   "outputs": [],
   "source": [
    "from sklearn.metrics import classification_report"
   ]
  },
  {
   "cell_type": "code",
   "execution_count": 35,
   "id": "0053d15d-966c-411c-b3ae-37a39fe38b30",
   "metadata": {},
   "outputs": [
    {
     "name": "stdout",
     "output_type": "stream",
     "text": [
      "              precision    recall  f1-score   support\n",
      "\n",
      "           0       1.00      1.00      1.00        11\n",
      "           1       1.00      0.92      0.96        13\n",
      "           2       0.86      1.00      0.92         6\n",
      "\n",
      "    accuracy                           0.97        30\n",
      "   macro avg       0.95      0.97      0.96        30\n",
      "weighted avg       0.97      0.97      0.97        30\n",
      "\n"
     ]
    }
   ],
   "source": [
    "print(classification_report(y_test, y_pred))"
   ]
  },
  {
   "cell_type": "markdown",
   "id": "ad0fb2b0-5e54-4ebd-9f5c-0f629127004e",
   "metadata": {},
   "source": [
    "As you can see above it is giving a precision score for each of the classes (0,1,2) which again we can see that the wrong prediction was for target 1 which was wrongly predicted as 2"
   ]
  },
  {
   "cell_type": "markdown",
   "id": "b44a49a5-c07d-42c6-8284-e9d161029764",
   "metadata": {},
   "source": [
    "> take a look at the differences in the precision and recall values"
   ]
  },
  {
   "cell_type": "markdown",
   "id": "7d337b4c-9178-4599-9e79-f9a7a79a2575",
   "metadata": {},
   "source": [
    "<b> Deeper look into precision recall </b>"
   ]
  },
  {
   "cell_type": "markdown",
   "id": "61326bd7-859b-4eb1-adf6-ea85c713ced3",
   "metadata": {},
   "source": [
    "https://scikit-learn.org/stable/auto_examples/model_selection/plot_precision_recall.html\n",
    "See page for the exact equations\n",
    "https://scikit-learn.org/stable/modules/generated/sklearn.metrics.classification_report.html (overview for classification_report)\n",
    "https://scikit-learn.org/stable/modules/generated/sklearn.metrics.precision_recall_fscore_support.html#sklearn.metrics.precision_recall_fscore_support (specifics on metrics)"
   ]
  },
  {
   "cell_type": "code",
   "execution_count": 69,
   "id": "0b06cf4c-e408-4b69-b39b-6250de5ab3a3",
   "metadata": {},
   "outputs": [
    {
     "name": "stdout",
     "output_type": "stream",
     "text": [
      "              precision    recall  f1-score   support\n",
      "\n",
      "           0       1.00      1.00      1.00        11\n",
      "           1       1.00      0.92      0.96        13\n",
      "           2       0.86      1.00      0.92         6\n",
      "\n",
      "    accuracy                           0.97        30\n",
      "   macro avg       0.95      0.97      0.96        30\n",
      "weighted avg       0.97      0.97      0.97        30\n",
      "\n"
     ]
    }
   ],
   "source": [
    "print(classification_report(y_test, y_pred))"
   ]
  },
  {
   "cell_type": "markdown",
   "id": "a00c7443-380c-48a7-847d-9406ad4f5374",
   "metadata": {},
   "source": [
    "The results above use <b> precision recall </b>"
   ]
  },
  {
   "cell_type": "markdown",
   "id": "0a2c75a1-8c9a-4cb8-89dc-136a2a89347e",
   "metadata": {},
   "source": [
    "The <b> Precision (p) value </b> is defined as the number of true-positives over the number of true-positives plus the number of false-positives"
   ]
  },
  {
   "cell_type": "markdown",
   "id": "62ff73ac-1131-4377-9e08-13d1cb2b59b5",
   "metadata": {},
   "source": [
    "The <b> Recall (R) value </b> is defines as the number of true positives over the number of true-positives plus the number of false-negatives"
   ]
  },
  {
   "cell_type": "markdown",
   "id": "3aa5a809-bc47-4d04-83da-e0d91bb633a1",
   "metadata": {},
   "source": [
    "The <b> F1 score </b> is defined as the harmonic mean of the precision and recall"
   ]
  },
  {
   "cell_type": "markdown",
   "id": "64f864cc-314c-4255-b2be-3b79a713cd16",
   "metadata": {},
   "source": [
    "so f1 = 2((P*R)/(P+R))\n"
   ]
  },
  {
   "cell_type": "markdown",
   "id": "95cbb83d-9b59-4b13-8d68-0d5dfcf8d1cf",
   "metadata": {},
   "source": [
    "The <b> support score </b> is defined as the number of occurrences of each label in y_true."
   ]
  },
  {
   "cell_type": "markdown",
   "id": "399636c7-38d5-461d-9036-a9de02fcbe3f",
   "metadata": {},
   "source": [
    "> <b> Note: </b> Precision may not decreade with recall"
   ]
  },
  {
   "cell_type": "markdown",
   "id": "1aa5356f-e5dd-49a6-89c3-25a22ae2487d",
   "metadata": {},
   "source": [
    "We can plot this (see webpage)"
   ]
  }
 ],
 "metadata": {
  "kernelspec": {
   "display_name": "Python 3 (ipykernel)",
   "language": "python",
   "name": "python3"
  },
  "language_info": {
   "codemirror_mode": {
    "name": "ipython",
    "version": 3
   },
   "file_extension": ".py",
   "mimetype": "text/x-python",
   "name": "python",
   "nbconvert_exporter": "python",
   "pygments_lexer": "ipython3",
   "version": "3.9.10"
  }
 },
 "nbformat": 4,
 "nbformat_minor": 5
}
