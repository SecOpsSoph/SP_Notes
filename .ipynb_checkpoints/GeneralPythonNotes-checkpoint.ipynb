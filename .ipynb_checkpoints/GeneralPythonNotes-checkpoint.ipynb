{
 "cells": [
  {
   "cell_type": "markdown",
   "id": "1fad5d0f-5547-4b12-9a10-295574628571",
   "metadata": {},
   "source": [
    "<b>Python for Data Science and Machine Learning Bootcamp </b>\n"
   ]
  },
  {
   "cell_type": "markdown",
   "id": "075fb674-6e1d-4274-84c6-4e0b2b92d491",
   "metadata": {},
   "source": [
    "<i> Usual run-through of tools. How to run cells, make it markup </i>"
   ]
  },
  {
   "cell_type": "markdown",
   "id": "24106321-6b7b-42cf-8c7a-f8df91594a0f",
   "metadata": {},
   "source": [
    "<b> Part 1 : </b>Python Run through:"
   ]
  },
  {
   "cell_type": "markdown",
   "id": "0ada7b9b-81f3-4a19-8060-0d4b8dfe5ed8",
   "metadata": {},
   "source": [
    "Normal operators and comment overview: + - % * ** ()"
   ]
  },
  {
   "cell_type": "code",
   "execution_count": 1,
   "id": "29f8e3cd-31b7-417d-8327-b1c13643a8d7",
   "metadata": {},
   "outputs": [
    {
     "name": "stdout",
     "output_type": "stream",
     "text": [
      "hello\n"
     ]
    }
   ],
   "source": [
    "print('hello')"
   ]
  },
  {
   "cell_type": "code",
   "execution_count": 2,
   "id": "3912d112-e074-4aae-b5fe-6aa8837ecc4a",
   "metadata": {},
   "outputs": [],
   "source": [
    "x = 'hello'"
   ]
  },
  {
   "cell_type": "code",
   "execution_count": 3,
   "id": "35c5a39a-cf70-4000-97a2-ad46ada6ed3f",
   "metadata": {},
   "outputs": [
    {
     "name": "stdout",
     "output_type": "stream",
     "text": [
      "hello\n"
     ]
    }
   ],
   "source": [
    "print(x)"
   ]
  },
  {
   "cell_type": "code",
   "execution_count": 4,
   "id": "16a42aff-9b95-44e5-b304-9baa48cb73a1",
   "metadata": {},
   "outputs": [
    {
     "data": {
      "text/plain": [
       "'hello'"
      ]
     },
     "execution_count": 4,
     "metadata": {},
     "output_type": "execute_result"
    }
   ],
   "source": [
    "x"
   ]
  },
  {
   "cell_type": "code",
   "execution_count": 5,
   "id": "94add012-9081-4023-87c7-0e94b2ffa0a4",
   "metadata": {},
   "outputs": [],
   "source": [
    "num= 23\n",
    "name = 'sophie'"
   ]
  },
  {
   "cell_type": "code",
   "execution_count": 8,
   "id": "b119dcdf-08ba-4722-b409-bf8ba58d078a",
   "metadata": {},
   "outputs": [
    {
     "name": "stdout",
     "output_type": "stream",
     "text": [
      "My age is 23 and my name is sophie\n"
     ]
    }
   ],
   "source": [
    "print('My age is {} and my name is {}'.format(num,name))"
   ]
  },
  {
   "cell_type": "code",
   "execution_count": 11,
   "id": "82dd97b8-eb77-41a5-b90b-bc1d8b28981e",
   "metadata": {},
   "outputs": [
    {
     "name": "stdout",
     "output_type": "stream",
     "text": [
      "My name is  sophie  and my age is  23\n"
     ]
    }
   ],
   "source": [
    "print('My name is ', name, ' and my age is ', num)"
   ]
  },
  {
   "cell_type": "code",
   "execution_count": 12,
   "id": "14d371eb-450d-468f-916c-6480452660e1",
   "metadata": {},
   "outputs": [
    {
     "name": "stdout",
     "output_type": "stream",
     "text": [
      "My age is 23 and my name is sophie\n"
     ]
    }
   ],
   "source": [
    "print('My age is {one} and my name is {two}'.format(one= num,two= name))"
   ]
  },
  {
   "cell_type": "code",
   "execution_count": 13,
   "id": "42109d43-0f38-4e51-9824-0e3e12605b53",
   "metadata": {},
   "outputs": [],
   "source": [
    "s= 'eyup'"
   ]
  },
  {
   "cell_type": "markdown",
   "id": "072da556-fa5b-498b-9960-b219ca9b074b",
   "metadata": {},
   "source": [
    "<b> Slice:</b>\n",
    "Pick character at index 3\n",
    "(arrays start at index 0)"
   ]
  },
  {
   "cell_type": "code",
   "execution_count": 15,
   "id": "49a0431a-3324-4863-8bee-663d911f427f",
   "metadata": {},
   "outputs": [
    {
     "data": {
      "text/plain": [
       "'p'"
      ]
     },
     "execution_count": 15,
     "metadata": {},
     "output_type": "execute_result"
    }
   ],
   "source": [
    "s[3]"
   ]
  },
  {
   "cell_type": "markdown",
   "id": "0c08bd7c-56d6-4cc6-900f-71a92b264846",
   "metadata": {},
   "source": [
    "Show everthing from index 0"
   ]
  },
  {
   "cell_type": "code",
   "execution_count": 19,
   "id": "124a2a65-01ea-4fe5-b524-0d0eaa7bfc91",
   "metadata": {},
   "outputs": [
    {
     "data": {
      "text/plain": [
       "'eyup'"
      ]
     },
     "execution_count": 19,
     "metadata": {},
     "output_type": "execute_result"
    }
   ],
   "source": [
    "s[0:]"
   ]
  },
  {
   "cell_type": "markdown",
   "id": "8985ca3b-6ac3-41d3-9760-8a421d69a9dc",
   "metadata": {},
   "source": [
    "Grab everything up to index 3 but not including it"
   ]
  },
  {
   "cell_type": "code",
   "execution_count": 18,
   "id": "16dc0e93-7eaf-4e11-9653-f8ccff541975",
   "metadata": {},
   "outputs": [
    {
     "data": {
      "text/plain": [
       "'eyu'"
      ]
     },
     "execution_count": 18,
     "metadata": {},
     "output_type": "execute_result"
    }
   ],
   "source": [
    "s[:3]"
   ]
  },
  {
   "cell_type": "code",
   "execution_count": 20,
   "id": "05468ecc-652f-4c11-8795-b5fd1c0a7002",
   "metadata": {},
   "outputs": [
    {
     "data": {
      "text/plain": [
       "'yu'"
      ]
     },
     "execution_count": 20,
     "metadata": {},
     "output_type": "execute_result"
    }
   ],
   "source": [
    "s[1:3]"
   ]
  },
  {
   "cell_type": "markdown",
   "id": "68eba7a9-e251-4b7a-8997-caa9b80696e2",
   "metadata": {},
   "source": [
    "<b>LIST:</b> sequence of elements"
   ]
  },
  {
   "cell_type": "code",
   "execution_count": 31,
   "id": "de445e84-e438-44f9-bb27-441342a072c2",
   "metadata": {},
   "outputs": [],
   "source": [
    "alpha_list= ['a','b','c']"
   ]
  },
  {
   "cell_type": "markdown",
   "id": "cff7d9e0-1337-4d2e-8cef-e393deb3ed65",
   "metadata": {},
   "source": [
    "How to <b>add to list</b>"
   ]
  },
  {
   "cell_type": "code",
   "execution_count": 33,
   "id": "e9addbdf-09c4-4a00-b039-f93569c162ea",
   "metadata": {},
   "outputs": [],
   "source": [
    "alpha_list.append('d')"
   ]
  },
  {
   "cell_type": "code",
   "execution_count": 34,
   "id": "e068e671-1637-4e40-b4d9-c77e7bd1d8ea",
   "metadata": {},
   "outputs": [
    {
     "name": "stdout",
     "output_type": "stream",
     "text": [
      "['a', 'b', 'c', 'd']\n"
     ]
    }
   ],
   "source": [
    "print(alpha_list)"
   ]
  },
  {
   "cell_type": "code",
   "execution_count": 35,
   "id": "778daae4-5a3b-4df8-afdf-138dd55f2bd8",
   "metadata": {},
   "outputs": [],
   "source": [
    "alpha_list.remove('a')"
   ]
  },
  {
   "cell_type": "code",
   "execution_count": 36,
   "id": "bb905b1a-3b17-48f8-b4c0-94c227d5d585",
   "metadata": {},
   "outputs": [
    {
     "data": {
      "text/plain": [
       "['b', 'c', 'd']"
      ]
     },
     "execution_count": 36,
     "metadata": {},
     "output_type": "execute_result"
    }
   ],
   "source": [
    "alpha_list"
   ]
  },
  {
   "cell_type": "code",
   "execution_count": 38,
   "id": "1da7aa28-f115-47ca-9a08-46bf2ca79e0c",
   "metadata": {},
   "outputs": [],
   "source": [
    "alpha_list.append('a')"
   ]
  },
  {
   "cell_type": "code",
   "execution_count": 39,
   "id": "034262e0-c229-469a-8aaf-c4e2493b2cd7",
   "metadata": {},
   "outputs": [
    {
     "data": {
      "text/plain": [
       "['c', 'd']"
      ]
     },
     "execution_count": 39,
     "metadata": {},
     "output_type": "execute_result"
    }
   ],
   "source": [
    "alpha_list[1:3]"
   ]
  },
  {
   "cell_type": "markdown",
   "id": "bf97b957-32b1-46c6-9f67-4e448a8cc44f",
   "metadata": {},
   "source": [
    "<b>Nesting:</b>"
   ]
  },
  {
   "cell_type": "code",
   "execution_count": 40,
   "id": "e6bb0ef5-30ab-4f07-8a0e-c59e0c625bf2",
   "metadata": {},
   "outputs": [],
   "source": [
    "nest=[1,2,[3,4]]"
   ]
  },
  {
   "cell_type": "code",
   "execution_count": 41,
   "id": "426a9e08-ef87-4990-a10c-0ce596eb1498",
   "metadata": {},
   "outputs": [
    {
     "data": {
      "text/plain": [
       "[1, 2, [3, 4]]"
      ]
     },
     "execution_count": 41,
     "metadata": {},
     "output_type": "execute_result"
    }
   ],
   "source": [
    "nest"
   ]
  },
  {
   "cell_type": "code",
   "execution_count": 42,
   "id": "81aeefaf-bcb8-4eb8-b368-65b8ec0893ea",
   "metadata": {},
   "outputs": [
    {
     "data": {
      "text/plain": [
       "[3, 4]"
      ]
     },
     "execution_count": 42,
     "metadata": {},
     "output_type": "execute_result"
    }
   ],
   "source": [
    "nest[2]"
   ]
  },
  {
   "cell_type": "code",
   "execution_count": 43,
   "id": "dc779cd8-8634-4a90-87f1-5228b3ef83cd",
   "metadata": {},
   "outputs": [
    {
     "data": {
      "text/plain": [
       "4"
      ]
     },
     "execution_count": 43,
     "metadata": {},
     "output_type": "execute_result"
    }
   ],
   "source": [
    "nest[2][1]"
   ]
  },
  {
   "cell_type": "code",
   "execution_count": 45,
   "id": "c5796058-cda2-433a-acfb-e57a48a18b5f",
   "metadata": {},
   "outputs": [],
   "source": [
    "nest=[1,2,[3,4, ['target']]]"
   ]
  },
  {
   "cell_type": "code",
   "execution_count": 47,
   "id": "01dfe93c-c1fb-4deb-9225-81241bef0347",
   "metadata": {},
   "outputs": [
    {
     "name": "stdout",
     "output_type": "stream",
     "text": [
      "target\n"
     ]
    }
   ],
   "source": [
    "print(nest[2][2][0])"
   ]
  },
  {
   "cell_type": "markdown",
   "id": "b2761bf6-4aea-414b-8d20-92ee786d4db6",
   "metadata": {},
   "source": [
    "<b> Part 2:</b>"
   ]
  },
  {
   "cell_type": "markdown",
   "id": "1cee0e43-ccf1-48ba-b688-33e852430cd2",
   "metadata": {},
   "source": [
    " <b>Dictionaries</b> are key value pairs"
   ]
  },
  {
   "cell_type": "code",
   "execution_count": 48,
   "id": "2c4200e0-54a1-40cb-b39a-ab10b5a944d9",
   "metadata": {},
   "outputs": [],
   "source": [
    "d= {'key1':'value', 'key2':123}"
   ]
  },
  {
   "cell_type": "code",
   "execution_count": 52,
   "id": "832a46cf-5376-46cb-a97c-2b31d31d2bc5",
   "metadata": {},
   "outputs": [
    {
     "data": {
      "text/plain": [
       "123"
      ]
     },
     "execution_count": 52,
     "metadata": {},
     "output_type": "execute_result"
    }
   ],
   "source": [
    "d['key2']"
   ]
  },
  {
   "cell_type": "code",
   "execution_count": 57,
   "id": "d823a4b1-1a66-4c7b-bdea-80148054946e",
   "metadata": {},
   "outputs": [
    {
     "data": {
      "text/plain": [
       "321"
      ]
     },
     "execution_count": 57,
     "metadata": {},
     "output_type": "execute_result"
    }
   ],
   "source": [
    "dict= {'soph_stud_no':123, 'matt_stud_no': 321}\n",
    "dict['matt_stud_no']"
   ]
  },
  {
   "cell_type": "code",
   "execution_count": 56,
   "id": "6176ecb7-28eb-4285-bbe5-4be84f7b7bea",
   "metadata": {},
   "outputs": [
    {
     "data": {
      "text/plain": [
       "{'k1': [1, 2, 3]}"
      ]
     },
     "execution_count": 56,
     "metadata": {},
     "output_type": "execute_result"
    }
   ],
   "source": [
    "d= {'k1':[1,2,3]}\n",
    "d"
   ]
  },
  {
   "cell_type": "code",
   "execution_count": 58,
   "id": "abc7af4a-10c5-49ae-bac5-953289aa0bb1",
   "metadata": {},
   "outputs": [
    {
     "data": {
      "text/plain": [
       "[1, 2, 3]"
      ]
     },
     "execution_count": 58,
     "metadata": {},
     "output_type": "execute_result"
    }
   ],
   "source": [
    "d['k1']"
   ]
  },
  {
   "cell_type": "code",
   "execution_count": 63,
   "id": "b1b96f20-0a37-43be-bdb2-bd18df137cbb",
   "metadata": {},
   "outputs": [
    {
     "data": {
      "text/plain": [
       "3"
      ]
     },
     "execution_count": 63,
     "metadata": {},
     "output_type": "execute_result"
    }
   ],
   "source": [
    "my_list= d['k1'][2]\n",
    "my_list"
   ]
  },
  {
   "cell_type": "code",
   "execution_count": 65,
   "id": "6489271c-5936-42af-a567-36b86cc1c748",
   "metadata": {},
   "outputs": [
    {
     "data": {
      "text/plain": [
       "1"
      ]
     },
     "execution_count": 65,
     "metadata": {},
     "output_type": "execute_result"
    }
   ],
   "source": [
    "my_list= d['k1']\n",
    "my_list[0]"
   ]
  },
  {
   "cell_type": "markdown",
   "id": "bcb3e3b1-f6a7-47a9-9139-d2e53118c02d",
   "metadata": {},
   "source": [
    "you <b>can</b> have a dictionary in a dictionary:"
   ]
  },
  {
   "cell_type": "code",
   "execution_count": 66,
   "id": "0a16d552-35e1-4f19-b6bb-1f102f15e211",
   "metadata": {},
   "outputs": [],
   "source": [
    "d= {'k1':{'innerkey':[1,2,3]}}"
   ]
  },
  {
   "cell_type": "code",
   "execution_count": 68,
   "id": "45f83e88-8e16-422b-a3c5-b958df747790",
   "metadata": {},
   "outputs": [
    {
     "data": {
      "text/plain": [
       "[1, 2, 3]"
      ]
     },
     "execution_count": 68,
     "metadata": {},
     "output_type": "execute_result"
    }
   ],
   "source": [
    "d['k1']['innerkey']"
   ]
  },
  {
   "cell_type": "markdown",
   "id": "ff3d7465-b232-426f-b76a-13e56773edd6",
   "metadata": {},
   "source": [
    "<b>Boolean</b>"
   ]
  },
  {
   "cell_type": "code",
   "execution_count": 69,
   "id": "2f545ed3-7668-434f-a444-c4725e513c1d",
   "metadata": {},
   "outputs": [
    {
     "data": {
      "text/plain": [
       "False"
      ]
     },
     "execution_count": 69,
     "metadata": {},
     "output_type": "execute_result"
    }
   ],
   "source": [
    "True\n",
    "False"
   ]
  },
  {
   "cell_type": "markdown",
   "id": "51e56721-3a0d-442c-bce4-be7f475e4849",
   "metadata": {},
   "source": [
    "<b>TUPLE:</b> "
   ]
  },
  {
   "cell_type": "code",
   "execution_count": 70,
   "id": "fae4ad09-036d-4ec1-b284-07fc3de65bdb",
   "metadata": {},
   "outputs": [],
   "source": [
    "t=(1,2,3)"
   ]
  },
  {
   "cell_type": "code",
   "execution_count": 71,
   "id": "60a49315-7e26-4f07-8c03-af3400da75cb",
   "metadata": {},
   "outputs": [
    {
     "data": {
      "text/plain": [
       "1"
      ]
     },
     "execution_count": 71,
     "metadata": {},
     "output_type": "execute_result"
    }
   ],
   "source": [
    "t[0]"
   ]
  },
  {
   "cell_type": "markdown",
   "id": "359e77af-1646-4cff-bf82-2ecc47dd90aa",
   "metadata": {},
   "source": [
    "<b>lists</b> allow us to re-arrange location. <b>tuples are immutable</b>, can't change the items inside them compared to lisst"
   ]
  },
  {
   "cell_type": "markdown",
   "id": "155c4dc6-27c4-401a-8732-05ff8a543777",
   "metadata": {},
   "source": [
    "set is a collection of unique elements"
   ]
  },
  {
   "cell_type": "code",
   "execution_count": 75,
   "id": "46695bbc-0592-4bb4-b214-483dc606419f",
   "metadata": {},
   "outputs": [
    {
     "data": {
      "text/plain": [
       "{1, 2, 3, 4, 5}"
      ]
     },
     "execution_count": 75,
     "metadata": {},
     "output_type": "execute_result"
    }
   ],
   "source": [
    "s={1,1,2,3,3,4,5,5,5}\n",
    "s"
   ]
  },
  {
   "cell_type": "markdown",
   "id": "8f27220e-2ac2-4e34-b9db-0816facb5f8e",
   "metadata": {},
   "source": [
    "only returns the <b>unique elements</b>"
   ]
  },
  {
   "cell_type": "code",
   "execution_count": 77,
   "id": "cf12d06d-23a6-415f-9abb-f5f39f5d6270",
   "metadata": {},
   "outputs": [
    {
     "data": {
      "text/plain": [
       "{1, 2, 3, 4, 5, 7}"
      ]
     },
     "execution_count": 77,
     "metadata": {},
     "output_type": "execute_result"
    }
   ],
   "source": [
    "s.add(7)\n",
    "s"
   ]
  },
  {
   "cell_type": "code",
   "execution_count": 79,
   "id": "400750ad-1e23-4b2f-a8fa-68a710064447",
   "metadata": {},
   "outputs": [
    {
     "data": {
      "text/plain": [
       "{1, 2, 3, 4, 5, 7}"
      ]
     },
     "execution_count": 79,
     "metadata": {},
     "output_type": "execute_result"
    }
   ],
   "source": [
    "s.add(7)\n",
    "s"
   ]
  },
  {
   "cell_type": "markdown",
   "id": "8fda2907-e52b-452c-80aa-1e366f7c87fd",
   "metadata": {},
   "source": [
    "Stays the same as <b>can't have duplicates</b>"
   ]
  },
  {
   "cell_type": "markdown",
   "id": "68bc28ef-dcd9-4474-8141-f9c1a4cac198",
   "metadata": {},
   "source": [
    "<b>Comaprison operators </b>: same as usual"
   ]
  },
  {
   "cell_type": "markdown",
   "id": "2d2487ac-c931-4d75-9840-f28f5dc3322a",
   "metadata": {},
   "source": [
    "<b>More than</b>"
   ]
  },
  {
   "cell_type": "code",
   "execution_count": 80,
   "id": "fc9a8930-6736-4364-b304-c75100bdc1aa",
   "metadata": {},
   "outputs": [
    {
     "data": {
      "text/plain": [
       "False"
      ]
     },
     "execution_count": 80,
     "metadata": {},
     "output_type": "execute_result"
    }
   ],
   "source": [
    "1>2"
   ]
  },
  {
   "cell_type": "markdown",
   "id": "7fb8bd9f-b4c0-4b5e-846d-bb771522823f",
   "metadata": {},
   "source": [
    "<b> Less than</b>"
   ]
  },
  {
   "cell_type": "code",
   "execution_count": 81,
   "id": "fab52a1c-c885-4b7c-a48e-1d026e4601bb",
   "metadata": {},
   "outputs": [
    {
     "data": {
      "text/plain": [
       "True"
      ]
     },
     "execution_count": 81,
     "metadata": {},
     "output_type": "execute_result"
    }
   ],
   "source": [
    "1<2"
   ]
  },
  {
   "cell_type": "markdown",
   "id": "dfb1dc72-c598-4f12-8251-e7cb7a0909fc",
   "metadata": {},
   "source": [
    "<b> More than or equal to</b>"
   ]
  },
  {
   "cell_type": "code",
   "execution_count": 82,
   "id": "4f5db535-8c16-4932-b0bc-07fd765df7a2",
   "metadata": {},
   "outputs": [
    {
     "data": {
      "text/plain": [
       "False"
      ]
     },
     "execution_count": 82,
     "metadata": {},
     "output_type": "execute_result"
    }
   ],
   "source": [
    "1 >=2"
   ]
  },
  {
   "cell_type": "markdown",
   "id": "76a00c12-ada5-4042-b9f5-28f2af2b0089",
   "metadata": {},
   "source": [
    "<b> Less than or equal to</b>"
   ]
  },
  {
   "cell_type": "code",
   "execution_count": 83,
   "id": "5fef6f2d-570a-4a2d-8e11-b818856627a1",
   "metadata": {},
   "outputs": [
    {
     "data": {
      "text/plain": [
       "True"
      ]
     },
     "execution_count": 83,
     "metadata": {},
     "output_type": "execute_result"
    }
   ],
   "source": [
    "1<=2"
   ]
  },
  {
   "cell_type": "markdown",
   "id": "d79d4912-55bd-47b6-b603-8658821776bb",
   "metadata": {},
   "source": [
    "<b> Equality </b> (equal to)"
   ]
  },
  {
   "cell_type": "code",
   "execution_count": 85,
   "id": "7ceaa340-7069-440e-b1f1-69c980338d75",
   "metadata": {},
   "outputs": [
    {
     "data": {
      "text/plain": [
       "True"
      ]
     },
     "execution_count": 85,
     "metadata": {},
     "output_type": "execute_result"
    }
   ],
   "source": [
    "1==1"
   ]
  },
  {
   "cell_type": "code",
   "execution_count": 87,
   "id": "d1cbd569-6e9e-432b-834b-7b976a1bdd73",
   "metadata": {},
   "outputs": [
    {
     "data": {
      "text/plain": [
       "False"
      ]
     },
     "execution_count": 87,
     "metadata": {},
     "output_type": "execute_result"
    }
   ],
   "source": [
    "1==3"
   ]
  },
  {
   "cell_type": "markdown",
   "id": "bfacf261-ad8f-492b-a4f4-bbd60f095c36",
   "metadata": {},
   "source": [
    "<b> Negation</b> (not equal to)"
   ]
  },
  {
   "cell_type": "markdown",
   "id": "49c899ca-bd0e-40c6-ab66-229bea052bbe",
   "metadata": {},
   "source": [
    "<i>Not equal</i>"
   ]
  },
  {
   "cell_type": "code",
   "execution_count": 86,
   "id": "68583825-4487-4ef3-92e2-ade315d32c84",
   "metadata": {},
   "outputs": [
    {
     "data": {
      "text/plain": [
       "True"
      ]
     },
     "execution_count": 86,
     "metadata": {},
     "output_type": "execute_result"
    }
   ],
   "source": [
    "1!=2"
   ]
  },
  {
   "cell_type": "markdown",
   "id": "dc907221-c2c0-4f71-9e21-d207ecfd1fe9",
   "metadata": {},
   "source": [
    "<b>AND  </b> statement"
   ]
  },
  {
   "cell_type": "code",
   "execution_count": 88,
   "id": "427c0e27-7037-4f05-9e7f-5245100b8f32",
   "metadata": {},
   "outputs": [
    {
     "data": {
      "text/plain": [
       "True"
      ]
     },
     "execution_count": 88,
     "metadata": {},
     "output_type": "execute_result"
    }
   ],
   "source": [
    "1<2 and 2<3"
   ]
  },
  {
   "cell_type": "code",
   "execution_count": 89,
   "id": "5968aa1e-5d66-4fc8-8e70-8d53cfc4dddc",
   "metadata": {},
   "outputs": [
    {
     "data": {
      "text/plain": [
       "False"
      ]
     },
     "execution_count": 89,
     "metadata": {},
     "output_type": "execute_result"
    }
   ],
   "source": [
    "1<2 and 2>3"
   ]
  },
  {
   "cell_type": "markdown",
   "id": "48e450ba-7c20-47ee-aaca-58e6dc6e8a14",
   "metadata": {},
   "source": [
    "for and, all statments must be true"
   ]
  },
  {
   "cell_type": "markdown",
   "id": "6d6730ae-28ba-4b67-92b0-51951a8457c3",
   "metadata": {},
   "source": [
    "<b> OR</b> statements"
   ]
  },
  {
   "cell_type": "code",
   "execution_count": 92,
   "id": "0b11c660-f015-4942-bef9-fba5960b12e2",
   "metadata": {},
   "outputs": [
    {
     "data": {
      "text/plain": [
       "True"
      ]
     },
     "execution_count": 92,
     "metadata": {},
     "output_type": "execute_result"
    }
   ],
   "source": [
    "(1<2) or (2>3)"
   ]
  },
  {
   "cell_type": "markdown",
   "id": "f7dfc37c-dc4c-41a3-a21d-23b49999e3b2",
   "metadata": {},
   "source": [
    "for OR, either can be true for the OR to be true"
   ]
  },
  {
   "cell_type": "markdown",
   "id": "9358d5a1-183a-44f1-b2c5-4387c75876d3",
   "metadata": {},
   "source": [
    "<b>IF, ELIF AND ELSE </b>"
   ]
  },
  {
   "cell_type": "code",
   "execution_count": 94,
   "id": "88df6f59-ce7d-4697-9e32-0e12ef6ad8ef",
   "metadata": {},
   "outputs": [
    {
     "name": "stdout",
     "output_type": "stream",
     "text": [
      "1 is less than 2\n"
     ]
    }
   ],
   "source": [
    "if 1<2:\n",
    "    print(\"1 is less than 2\")"
   ]
  },
  {
   "cell_type": "code",
   "execution_count": 95,
   "id": "ac2ba60d-e166-4b3c-bcc1-1465e95d350c",
   "metadata": {},
   "outputs": [
    {
     "name": "stdout",
     "output_type": "stream",
     "text": [
      "Last\n"
     ]
    }
   ],
   "source": [
    "if 1==2:\n",
    "    print('First')\n",
    "else:\n",
    "    print('Last')"
   ]
  },
  {
   "cell_type": "code",
   "execution_count": 96,
   "id": "9fb04ceb-3499-4410-8d35-5fff4248aa84",
   "metadata": {},
   "outputs": [
    {
     "name": "stdout",
     "output_type": "stream",
     "text": [
      "middle\n"
     ]
    }
   ],
   "source": [
    "if 1==2:\n",
    "    print('First')\n",
    "elif 3 ==3:\n",
    "    print('middle')\n",
    "else:\n",
    "    print('Last')"
   ]
  },
  {
   "cell_type": "markdown",
   "id": "fbaa3e78-2297-40c3-ba51-5cf8893a8371",
   "metadata": {},
   "source": [
    "<b>Can stack as many elif's </b> as you want"
   ]
  },
  {
   "cell_type": "markdown",
   "id": "2f51aad2-c993-4a22-a325-110c3ce6d327",
   "metadata": {},
   "source": [
    "<b> PART 3</b>"
   ]
  },
  {
   "cell_type": "code",
   "execution_count": 97,
   "id": "413a2a36-5bc0-44e7-ab90-7d79a6a4ad47",
   "metadata": {},
   "outputs": [],
   "source": [
    "seq = [1,2,3,4,5]"
   ]
  },
  {
   "cell_type": "markdown",
   "id": "13638613-2ba3-4156-9579-dc2c3e8f0272",
   "metadata": {},
   "source": [
    "<b>For loop:</b> variable can be any name"
   ]
  },
  {
   "cell_type": "code",
   "execution_count": 99,
   "id": "a38d6b7b-d758-4653-95e6-1afeef3919a3",
   "metadata": {},
   "outputs": [
    {
     "name": "stdout",
     "output_type": "stream",
     "text": [
      "1\n",
      "2\n",
      "3\n",
      "4\n",
      "5\n"
     ]
    }
   ],
   "source": [
    "for i in seq:\n",
    "    print(i)"
   ]
  },
  {
   "cell_type": "code",
   "execution_count": 102,
   "id": "35890eda-4f6f-4953-9d06-468c2c31e7c9",
   "metadata": {},
   "outputs": [
    {
     "name": "stdout",
     "output_type": "stream",
     "text": [
      "i is: 1|\n",
      "i is: 2|\n",
      "i is: 3|\n",
      "i is: 4|\n"
     ]
    }
   ],
   "source": [
    "i=1\n",
    "while i <5:\n",
    "    print('i is: {}|'. format(i))\n",
    "    i+= 1"
   ]
  },
  {
   "cell_type": "markdown",
   "id": "95a67d5b-df15-4d2a-920e-cf744c2dd274",
   "metadata": {},
   "source": [
    "<i>i += is equavilant to i+1 </i>"
   ]
  },
  {
   "cell_type": "code",
   "execution_count": 103,
   "id": "9e54e3e1-6ce7-473f-85f5-63e2cefeef1e",
   "metadata": {},
   "outputs": [
    {
     "name": "stdout",
     "output_type": "stream",
     "text": [
      "1\n",
      "2\n",
      "3\n",
      "4\n",
      "5\n"
     ]
    }
   ],
   "source": [
    "for x in seq:\n",
    "    print(x)"
   ]
  },
  {
   "cell_type": "code",
   "execution_count": 104,
   "id": "f3558e02-746f-4d21-acbb-ca5bbbb4f552",
   "metadata": {},
   "outputs": [
    {
     "data": {
      "text/plain": [
       "range(0, 5)"
      ]
     },
     "execution_count": 104,
     "metadata": {},
     "output_type": "execute_result"
    }
   ],
   "source": [
    "range(0,5)"
   ]
  },
  {
   "cell_type": "code",
   "execution_count": 106,
   "id": "4ce5bf4f-7f98-43af-abdb-13d24ca876b1",
   "metadata": {},
   "outputs": [
    {
     "name": "stdout",
     "output_type": "stream",
     "text": [
      "0\n",
      "1\n",
      "2\n",
      "3\n",
      "4\n"
     ]
    }
   ],
   "source": [
    "for x in range(0,5):\n",
    "    print(x)"
   ]
  },
  {
   "cell_type": "code",
   "execution_count": 107,
   "id": "1ac7955d-71c1-4716-9f5b-1d31b6b17c0c",
   "metadata": {},
   "outputs": [
    {
     "data": {
      "text/plain": [
       "[0, 1, 2, 3, 4, 5, 6, 7, 8, 9]"
      ]
     },
     "execution_count": 107,
     "metadata": {},
     "output_type": "execute_result"
    }
   ],
   "source": [
    "list(range(10))"
   ]
  },
  {
   "cell_type": "markdown",
   "id": "62f52cfb-ee1e-47a5-9517-99b85322ca26",
   "metadata": {},
   "source": [
    "<b>LIST COMPREHENSION</b>"
   ]
  },
  {
   "cell_type": "code",
   "execution_count": 110,
   "id": "fe240138-0189-444c-b109-04490941c8af",
   "metadata": {},
   "outputs": [],
   "source": [
    "x= [1,2,3,4]\n"
   ]
  },
  {
   "cell_type": "code",
   "execution_count": 111,
   "id": "3dffe98d-1f6a-4014-81d6-76aca18d6b22",
   "metadata": {},
   "outputs": [],
   "source": [
    "out=[]\n",
    "for num in x:\n",
    "    out.append(num**2)"
   ]
  },
  {
   "cell_type": "code",
   "execution_count": 112,
   "id": "cf09ab96-a3b1-4c16-938a-58a9c6e7dd0f",
   "metadata": {},
   "outputs": [
    {
     "name": "stdout",
     "output_type": "stream",
     "text": [
      "[1, 4, 9, 16]\n"
     ]
    }
   ],
   "source": [
    "print(out)"
   ]
  },
  {
   "cell_type": "markdown",
   "id": "c9596e03-48ac-41f4-a493-09a642c89cb1",
   "metadata": {},
   "source": [
    "<b>LIST COMPREHENSION: have all the command on one line</b>"
   ]
  },
  {
   "cell_type": "code",
   "execution_count": 113,
   "id": "3ba0b53b-0a09-419c-a87a-0019ea455301",
   "metadata": {},
   "outputs": [
    {
     "data": {
      "text/plain": [
       "[1, 4, 9, 16]"
      ]
     },
     "execution_count": 113,
     "metadata": {},
     "output_type": "execute_result"
    }
   ],
   "source": [
    "[num**2 for num in x]"
   ]
  },
  {
   "cell_type": "code",
   "execution_count": 114,
   "id": "aacc2978-8cab-4714-b92e-8e1a8370bc08",
   "metadata": {},
   "outputs": [],
   "source": [
    "out = [num**2 for num in x]"
   ]
  },
  {
   "cell_type": "code",
   "execution_count": 115,
   "id": "3c398e3a-7cd6-4b44-9f2b-2c66e74147a1",
   "metadata": {},
   "outputs": [
    {
     "data": {
      "text/plain": [
       "[1, 4, 9, 16]"
      ]
     },
     "execution_count": 115,
     "metadata": {},
     "output_type": "execute_result"
    }
   ],
   "source": [
    "out"
   ]
  },
  {
   "cell_type": "markdown",
   "id": "2c4077fa-fd1c-4d0d-8c70-60482047b73e",
   "metadata": {},
   "source": [
    "<b>FUNCTIONS:</b> allow us to call the function and not have to re-write"
   ]
  },
  {
   "cell_type": "code",
   "execution_count": 121,
   "id": "71657c9f-dc60-486e-81d1-d011bb5284a4",
   "metadata": {},
   "outputs": [],
   "source": [
    "def my_func(param1):\n",
    "    print(param1)"
   ]
  },
  {
   "cell_type": "code",
   "execution_count": 122,
   "id": "b62754f6-3c6d-4d4a-bf94-480fd777f3fa",
   "metadata": {},
   "outputs": [
    {
     "name": "stdout",
     "output_type": "stream",
     "text": [
      "hello\n"
     ]
    }
   ],
   "source": [
    "my_func('hello')"
   ]
  },
  {
   "cell_type": "code",
   "execution_count": 202,
   "id": "2108308f-2ffe-4772-8d62-50c218593f5c",
   "metadata": {},
   "outputs": [],
   "source": [
    "def my_func(name='Default Name'):\n",
    "    print('Hello ' +name)"
   ]
  },
  {
   "cell_type": "code",
   "execution_count": 129,
   "id": "3a8ac00f-3a50-43c7-8e94-6b80ad586c8d",
   "metadata": {},
   "outputs": [
    {
     "name": "stdout",
     "output_type": "stream",
     "text": [
      "Hello Default Name\n"
     ]
    }
   ],
   "source": [
    "my_func()"
   ]
  },
  {
   "cell_type": "code",
   "execution_count": 130,
   "id": "62108ef0-3c83-49d0-ab5b-272cc923b5cc",
   "metadata": {},
   "outputs": [
    {
     "name": "stdout",
     "output_type": "stream",
     "text": [
      "Hello Sophie\n"
     ]
    }
   ],
   "source": [
    "my_func('Sophie')"
   ]
  },
  {
   "cell_type": "code",
   "execution_count": 131,
   "id": "f78581da-f3fb-45aa-a40a-ae0b31e725a3",
   "metadata": {},
   "outputs": [
    {
     "name": "stdout",
     "output_type": "stream",
     "text": [
      "Hello Connor\n"
     ]
    }
   ],
   "source": [
    "name= 'Connor'\n",
    "my_func(name)"
   ]
  },
  {
   "cell_type": "code",
   "execution_count": 132,
   "id": "71f1758e-0a8e-4d7b-aed4-41e2f7e70386",
   "metadata": {},
   "outputs": [],
   "source": [
    "def square(num):\n",
    "    return num**2"
   ]
  },
  {
   "cell_type": "code",
   "execution_count": 133,
   "id": "750466f6-f0f7-4b21-89e3-ff22f1911d12",
   "metadata": {},
   "outputs": [],
   "source": [
    "output= square(2)"
   ]
  },
  {
   "cell_type": "code",
   "execution_count": 134,
   "id": "f6ae4fc6-484a-4426-8ecd-23e46fc81b8a",
   "metadata": {},
   "outputs": [
    {
     "data": {
      "text/plain": [
       "4"
      ]
     },
     "execution_count": 134,
     "metadata": {},
     "output_type": "execute_result"
    }
   ],
   "source": [
    "output"
   ]
  },
  {
   "cell_type": "markdown",
   "id": "38a86881-04a7-4328-b5c1-ef3ba90cbf35",
   "metadata": {},
   "source": [
    "def square(num):\n",
    "    \"\"\"\n",
    "    MULTI\n",
    "    line\n",
    "    comment\n",
    "    \"\"\"\n",
    "    return num**2"
   ]
  },
  {
   "cell_type": "markdown",
   "id": "fc2c8cf1-93ba-4d59-ba43-8a9035df4495",
   "metadata": {},
   "source": [
    "type <b>name </b> and then <b>shift + tab</b>, jupyter helps give us info on functions"
   ]
  },
  {
   "cell_type": "code",
   "execution_count": null,
   "id": "279b9efe-e67b-4ae2-9b1a-9176ba1ae19f",
   "metadata": {},
   "outputs": [],
   "source": []
  },
  {
   "cell_type": "markdown",
   "id": "7ac9a1d6-3f12-4618-be2f-3be1da32d6b1",
   "metadata": {},
   "source": [
    "<b> Section 4 of python fundamentals. math and functions</b>"
   ]
  },
  {
   "cell_type": "code",
   "execution_count": 137,
   "id": "16805881-25db-4197-b5e2-803fa4b8a7d9",
   "metadata": {},
   "outputs": [],
   "source": [
    "def times2(var):\n",
    "    return var*2"
   ]
  },
  {
   "cell_type": "code",
   "execution_count": 138,
   "id": "e6cd9454-2e45-4eaa-a69d-e7ba402330bc",
   "metadata": {},
   "outputs": [],
   "source": [
    "# map()"
   ]
  },
  {
   "cell_type": "code",
   "execution_count": 139,
   "id": "73b389b6-d95c-41d3-827f-2dce55800520",
   "metadata": {},
   "outputs": [],
   "source": [
    "seq=[1,2,3,4,5]"
   ]
  },
  {
   "cell_type": "code",
   "execution_count": 141,
   "id": "c232370c-369a-4bb4-ab40-be19313388c7",
   "metadata": {},
   "outputs": [
    {
     "data": {
      "text/plain": [
       "<map object at 0x1086df610>"
      ]
     },
     "execution_count": 141,
     "metadata": {},
     "output_type": "execute_result"
    }
   ],
   "source": [
    "map(times2, seq)"
   ]
  },
  {
   "cell_type": "markdown",
   "id": "f2ccba5d-f092-4786-9bb5-df4dfc08b450",
   "metadata": {},
   "source": [
    " <b> Python map: </b> Processing Iterables Without a Loop"
   ]
  },
  {
   "cell_type": "code",
   "execution_count": 142,
   "id": "3b227853-33be-4492-948e-21381f9bd506",
   "metadata": {},
   "outputs": [
    {
     "data": {
      "text/plain": [
       "[2, 4, 6, 8, 10]"
      ]
     },
     "execution_count": 142,
     "metadata": {},
     "output_type": "execute_result"
    }
   ],
   "source": [
    "list(map(times2,seq))"
   ]
  },
  {
   "cell_type": "markdown",
   "id": "9355887c-a4a5-41ec-89da-984ad5f560c8",
   "metadata": {},
   "source": [
    "<b> lambda Expression: </b> we can re-write the function \"times2\" better and more efficient. annoymous function"
   ]
  },
  {
   "cell_type": "code",
   "execution_count": 143,
   "id": "59c479e2-041e-4be4-bdf2-be0300b13aef",
   "metadata": {},
   "outputs": [],
   "source": [
    "def times2(var):return var*2"
   ]
  },
  {
   "cell_type": "code",
   "execution_count": 144,
   "id": "ad4277d2-c78f-437b-b15e-3c3bbe3ac18f",
   "metadata": {},
   "outputs": [
    {
     "data": {
      "text/plain": [
       "10"
      ]
     },
     "execution_count": 146,
     "metadata": {},
     "output_type": "execute_result"
    }
   ],
   "source": [
    "times2(5)"
   ]
  },
  {
   "cell_type": "markdown",
   "id": "6e327628-324b-434a-b514-217115b38011",
   "metadata": {},
   "source": [
    "But we can do this with lambda"
   ]
  },
  {
   "cell_type": "code",
   "execution_count": 147,
   "id": "c7dccc23-6d5e-46c8-af36-666361dfd951",
   "metadata": {},
   "outputs": [
    {
     "data": {
      "text/plain": [
       "<function <lambda> at 0x10823aca0>"
      ]
     },
     "execution_count": 147,
     "metadata": {},
     "output_type": "execute_result"
    }
   ],
   "source": [
    "lambda var:var*2"
   ]
  },
  {
   "cell_type": "code",
   "execution_count": 148,
   "id": "2b8c54d4-ef4d-4a38-8b9f-55b6b4cbfc54",
   "metadata": {},
   "outputs": [],
   "source": [
    "t= lambda var:var*2"
   ]
  },
  {
   "cell_type": "code",
   "execution_count": 149,
   "id": "a00aa631-4828-490c-afe6-751ded95c3cd",
   "metadata": {},
   "outputs": [
    {
     "data": {
      "text/plain": [
       "12"
      ]
     },
     "execution_count": 149,
     "metadata": {},
     "output_type": "execute_result"
    }
   ],
   "source": [
    "t(6)"
   ]
  },
  {
   "cell_type": "markdown",
   "id": "6b8f22a7-d0d2-40dd-b7f6-bb3964116d16",
   "metadata": {},
   "source": [
    "The next example uses lambda expression and map to condense the code, removing the need for the function. it multiplies all variables in the list \"seq\" by 3 and then lists them out. used alot by pandas"
   ]
  },
  {
   "cell_type": "code",
   "execution_count": 152,
   "id": "caf5f212-f3e9-460a-99d7-7770c7edd4aa",
   "metadata": {},
   "outputs": [
    {
     "data": {
      "text/plain": [
       "[3, 6, 9, 12, 15]"
      ]
     },
     "execution_count": 152,
     "metadata": {},
     "output_type": "execute_result"
    }
   ],
   "source": [
    "list(map(lambda num: num*3,seq))"
   ]
  },
  {
   "cell_type": "markdown",
   "id": "f24cbbbb-84b9-44c5-89af-728e6bca60f7",
   "metadata": {},
   "source": [
    "<b> FILTER </b>"
   ]
  },
  {
   "cell_type": "code",
   "execution_count": 153,
   "id": "40e891c4-5660-423a-893d-e5e68efbc88d",
   "metadata": {},
   "outputs": [
    {
     "data": {
      "text/plain": [
       "[2, 4]"
      ]
     },
     "execution_count": 153,
     "metadata": {},
     "output_type": "execute_result"
    }
   ],
   "source": [
    "list(filter(lambda num: num%2 ==0, seq))"
   ]
  },
  {
   "cell_type": "markdown",
   "id": "001daaf3-b83c-4278-9a44-b1e4428fc1c5",
   "metadata": {},
   "source": [
    "gives a true/false bool value and then will only return the values which are true. The code in the cell above goes through the 'seq' list and finds which ones are even."
   ]
  },
  {
   "cell_type": "code",
   "execution_count": 159,
   "id": "67a198f2-bb00-4e27-821c-e375bc9de7fb",
   "metadata": {},
   "outputs": [],
   "source": [
    "s= 'Hello my name is Sophie'"
   ]
  },
  {
   "cell_type": "markdown",
   "id": "8e2c3fbf-accc-4027-8c3a-a228f287a9b4",
   "metadata": {},
   "source": [
    "var.lower() will <b> LOWER CASE </b> the variable"
   ]
  },
  {
   "cell_type": "code",
   "execution_count": 163,
   "id": "31dd376e-22d6-4ee7-9b80-103627f128cf",
   "metadata": {},
   "outputs": [
    {
     "data": {
      "text/plain": [
       "'hello my name is sophie'"
      ]
     },
     "execution_count": 163,
     "metadata": {},
     "output_type": "execute_result"
    }
   ],
   "source": [
    "s.lower()"
   ]
  },
  {
   "cell_type": "markdown",
   "id": "7965bcdb-3741-4ce1-80bc-0d0036724902",
   "metadata": {},
   "source": [
    "<var>.upper() will <b> UPPER CASE </b> the variable"
   ]
  },
  {
   "cell_type": "code",
   "execution_count": 164,
   "id": "72c660ee-88ff-4555-8604-963566ae87bb",
   "metadata": {},
   "outputs": [
    {
     "data": {
      "text/plain": [
       "'HELLO MY NAME IS SOPHIE'"
      ]
     },
     "execution_count": 164,
     "metadata": {},
     "output_type": "execute_result"
    }
   ],
   "source": [
    "s.upper()"
   ]
  },
  {
   "cell_type": "markdown",
   "id": "1cf81d83-723b-4e9b-b72b-84eced3d6211",
   "metadata": {},
   "source": [
    "<b> .split() </b> seperates a variable into a list based upon the whitespace"
   ]
  },
  {
   "cell_type": "code",
   "execution_count": 172,
   "id": "f43feadb-923c-410c-8bc6-e9a42a9734b8",
   "metadata": {},
   "outputs": [],
   "source": [
    "slogan = 'Lets go! Win Sheffield'"
   ]
  },
  {
   "cell_type": "code",
   "execution_count": 173,
   "id": "6943ea70-4b09-484c-b688-44facb3e7d4f",
   "metadata": {},
   "outputs": [
    {
     "data": {
      "text/plain": [
       "['Lets', 'go!', 'Win', 'Sheffield']"
      ]
     },
     "execution_count": 173,
     "metadata": {},
     "output_type": "execute_result"
    }
   ],
   "source": [
    "slogan.split()"
   ]
  },
  {
   "cell_type": "markdown",
   "id": "cd8c66f0-f2e6-482d-bd50-76107854e916",
   "metadata": {},
   "source": [
    "we can use split to split on a variable. e.g. . <b>split('!')</b> will  split upon exclamation marrks"
   ]
  },
  {
   "cell_type": "code",
   "execution_count": 174,
   "id": "67c836a2-ff76-4391-9d59-f753441b8d7b",
   "metadata": {},
   "outputs": [
    {
     "data": {
      "text/plain": [
       "['Lets go', ' Win Sheffield']"
      ]
     },
     "execution_count": 174,
     "metadata": {},
     "output_type": "execute_result"
    }
   ],
   "source": [
    "slogan.split('!')"
   ]
  },
  {
   "cell_type": "code",
   "execution_count": 175,
   "id": "c86a1a90-65c5-4f28-a629-7a8a87efff87",
   "metadata": {},
   "outputs": [
    {
     "data": {
      "text/plain": [
       "' Win Sheffield'"
      ]
     },
     "execution_count": 175,
     "metadata": {},
     "output_type": "execute_result"
    }
   ],
   "source": [
    "slogan.split('!')[1]"
   ]
  },
  {
   "cell_type": "markdown",
   "id": "0a4babdf-7145-49a1-8293-ee9fcf61257f",
   "metadata": {},
   "source": [
    "<b>For example: </b> for tweets it would allow you to sperate with the hash to seperate out hashtags and you could access each via it's index"
   ]
  },
  {
   "cell_type": "code",
   "execution_count": 179,
   "id": "40cdd547-af56-4b6d-a478-adf58f6050ad",
   "metadata": {},
   "outputs": [
    {
     "data": {
      "text/plain": [
       "{'k1': 1, 'k2': 2}"
      ]
     },
     "execution_count": 179,
     "metadata": {},
     "output_type": "execute_result"
    }
   ],
   "source": [
    "d={'k1': 1, 'k2':2}\n",
    "d"
   ]
  },
  {
   "cell_type": "markdown",
   "id": "d1ee9e45-0711-40af-819f-03c80b04ebef",
   "metadata": {},
   "source": [
    "<b> var.keys() </b> returns the keys of a dictionary"
   ]
  },
  {
   "cell_type": "code",
   "execution_count": 181,
   "id": "6e3b8085-0b35-46dc-8809-d673f16665c6",
   "metadata": {},
   "outputs": [
    {
     "data": {
      "text/plain": [
       "dict_keys(['k1', 'k2'])"
      ]
     },
     "execution_count": 181,
     "metadata": {},
     "output_type": "execute_result"
    }
   ],
   "source": [
    "d.keys()"
   ]
  },
  {
   "cell_type": "markdown",
   "id": "18ea21f4-8910-4717-9fba-de8c6afc2dc7",
   "metadata": {},
   "source": [
    "<b> var.items() </b> returns the dictionary items"
   ]
  },
  {
   "cell_type": "code",
   "execution_count": 182,
   "id": "2a43b709-8025-4779-9055-929ed4b3a7b7",
   "metadata": {},
   "outputs": [
    {
     "data": {
      "text/plain": [
       "dict_items([('k1', 1), ('k2', 2)])"
      ]
     },
     "execution_count": 182,
     "metadata": {},
     "output_type": "execute_result"
    }
   ],
   "source": [
    "d.items()"
   ]
  },
  {
   "cell_type": "markdown",
   "id": "616ee9d3-eaf7-438a-8f5e-4220d1346da0",
   "metadata": {},
   "source": [
    "<b> var.values() </b> returns the values of a dictionary"
   ]
  },
  {
   "cell_type": "code",
   "execution_count": 183,
   "id": "1b039fa1-d58a-4b5a-9732-925be40eb503",
   "metadata": {},
   "outputs": [
    {
     "data": {
      "text/plain": [
       "dict_values([1, 2])"
      ]
     },
     "execution_count": 183,
     "metadata": {},
     "output_type": "execute_result"
    }
   ],
   "source": [
    "d.values()"
   ]
  },
  {
   "cell_type": "markdown",
   "id": "ea8f0675-542d-4a40-b418-5fae98b8040c",
   "metadata": {},
   "source": [
    "<b> useful functions for list are: </b>\n",
    ".pop()   -> this pop and return the last item in the list\n"
   ]
  },
  {
   "cell_type": "code",
   "execution_count": 185,
   "id": "2a2d7322-7412-4213-9fe1-d4fedfad5fab",
   "metadata": {},
   "outputs": [],
   "source": [
    "lst= [1,2,3,4,5]"
   ]
  },
  {
   "cell_type": "code",
   "execution_count": 186,
   "id": "63b74685-b816-4a85-aee8-cdb2eda7ecd7",
   "metadata": {},
   "outputs": [],
   "source": [
    "item= lst.pop()"
   ]
  },
  {
   "cell_type": "code",
   "execution_count": 187,
   "id": "df1c5e52-994e-43a4-8f07-a8363d708c6f",
   "metadata": {},
   "outputs": [
    {
     "data": {
      "text/plain": [
       "[1, 2, 3, 4]"
      ]
     },
     "execution_count": 187,
     "metadata": {},
     "output_type": "execute_result"
    }
   ],
   "source": [
    "lst"
   ]
  },
  {
   "cell_type": "code",
   "execution_count": 188,
   "id": "d5bb691b-6d30-4df1-97a7-9c1ec11a0535",
   "metadata": {},
   "outputs": [
    {
     "data": {
      "text/plain": [
       "5"
      ]
     },
     "execution_count": 188,
     "metadata": {},
     "output_type": "execute_result"
    }
   ],
   "source": [
    "item"
   ]
  },
  {
   "cell_type": "code",
   "execution_count": 189,
   "id": "5aa9b5d5-e86e-4d4d-b739-8f8f6917a07f",
   "metadata": {},
   "outputs": [],
   "source": [
    "first= lst.pop(0)"
   ]
  },
  {
   "cell_type": "code",
   "execution_count": 190,
   "id": "0ba231b1-3d62-4f86-8612-ac28c7bb1170",
   "metadata": {},
   "outputs": [
    {
     "data": {
      "text/plain": [
       "1"
      ]
     },
     "execution_count": 190,
     "metadata": {},
     "output_type": "execute_result"
    }
   ],
   "source": [
    "first"
   ]
  },
  {
   "cell_type": "code",
   "execution_count": 191,
   "id": "72cbdb84-5ab1-45cc-92c9-ceece5b3ec87",
   "metadata": {},
   "outputs": [
    {
     "data": {
      "text/plain": [
       "[2, 3, 4, 'new']"
      ]
     },
     "execution_count": 191,
     "metadata": {},
     "output_type": "execute_result"
    }
   ],
   "source": [
    "lst.append('new')\n",
    "lst"
   ]
  },
  {
   "cell_type": "markdown",
   "id": "af8c6693-aa2b-4b07-9514-8e117fe132c7",
   "metadata": {},
   "source": [
    "<b> Checking if something is inside a list</b>"
   ]
  },
  {
   "cell_type": "code",
   "execution_count": 192,
   "id": "c5062b82-ba88-44b0-b416-783b1d5d9f7a",
   "metadata": {},
   "outputs": [
    {
     "data": {
      "text/plain": [
       "False"
      ]
     },
     "execution_count": 192,
     "metadata": {},
     "output_type": "execute_result"
    }
   ],
   "source": [
    "'x' in [1,2,3]"
   ]
  },
  {
   "cell_type": "code",
   "execution_count": 193,
   "id": "2ccffa2a-c01b-4ee4-9f4d-b110035658d5",
   "metadata": {},
   "outputs": [
    {
     "data": {
      "text/plain": [
       "True"
      ]
     },
     "execution_count": 193,
     "metadata": {},
     "output_type": "execute_result"
    }
   ],
   "source": [
    "'x' in ['x','y','z']"
   ]
  },
  {
   "cell_type": "markdown",
   "id": "76c85de6-e5a5-4a13-843d-cceeb71972bf",
   "metadata": {},
   "source": [
    "<b> TUPLE unpacking </b>"
   ]
  },
  {
   "cell_type": "code",
   "execution_count": 194,
   "id": "7c07d080-75e1-467d-ac77-f1204c482886",
   "metadata": {},
   "outputs": [],
   "source": [
    "x = [(1,2), (3,4), (5,6)]"
   ]
  },
  {
   "cell_type": "code",
   "execution_count": 196,
   "id": "19b414b5-fe55-4da9-96d4-9e524d05b12c",
   "metadata": {},
   "outputs": [
    {
     "data": {
      "text/plain": [
       "2"
      ]
     },
     "execution_count": 196,
     "metadata": {},
     "output_type": "execute_result"
    }
   ],
   "source": [
    "x[0][1]"
   ]
  },
  {
   "cell_type": "code",
   "execution_count": 198,
   "id": "cd71e04b-9b33-4bb3-85a2-93c1a01a4c83",
   "metadata": {},
   "outputs": [
    {
     "name": "stdout",
     "output_type": "stream",
     "text": [
      "(1, 2)\n",
      "(3, 4)\n",
      "(5, 6)\n"
     ]
    }
   ],
   "source": [
    "for item in x:\n",
    "    print(item)"
   ]
  },
  {
   "cell_type": "markdown",
   "id": "51041a44-87a6-4f55-bb8c-5201cb5465a5",
   "metadata": {},
   "source": [
    "<b>tuple unpacking </b> allows us to do the following:"
   ]
  },
  {
   "cell_type": "code",
   "execution_count": 199,
   "id": "3ce28b56-0b74-455b-b377-511877a76f05",
   "metadata": {},
   "outputs": [
    {
     "name": "stdout",
     "output_type": "stream",
     "text": [
      "1\n",
      "3\n",
      "5\n"
     ]
    }
   ],
   "source": [
    "for (a,b) in x:\n",
    "    print(a)"
   ]
  },
  {
   "cell_type": "code",
   "execution_count": 200,
   "id": "b1a95719-d86f-44c8-8cd5-0c700bb25c97",
   "metadata": {},
   "outputs": [
    {
     "name": "stdout",
     "output_type": "stream",
     "text": [
      "2\n",
      "4\n",
      "6\n"
     ]
    }
   ],
   "source": [
    "for (a,b) in x:\n",
    "    print(b)"
   ]
  },
  {
   "cell_type": "code",
   "execution_count": 201,
   "id": "f9c2bae7-6e44-4579-8a22-069a3924a751",
   "metadata": {},
   "outputs": [
    {
     "name": "stdout",
     "output_type": "stream",
     "text": [
      "1\n",
      "2\n",
      "3\n",
      "4\n",
      "5\n",
      "6\n"
     ]
    }
   ],
   "source": [
    "for a,b in x:\n",
    "    print(a)\n",
    "    print(b)"
   ]
  },
  {
   "cell_type": "code",
   "execution_count": null,
   "id": "dfc1702a-5b8e-4583-a8c1-4ca23a0311e2",
   "metadata": {},
   "outputs": [],
   "source": []
  }
 ],
 "metadata": {
  "kernelspec": {
   "display_name": "Python 3 (ipykernel)",
   "language": "python",
   "name": "python3"
  },
  "language_info": {
   "codemirror_mode": {
    "name": "ipython",
    "version": 3
   },
   "file_extension": ".py",
   "mimetype": "text/x-python",
   "name": "python",
   "nbconvert_exporter": "python",
   "pygments_lexer": "ipython3",
   "version": "3.8.2"
  }
 },
 "nbformat": 4,
 "nbformat_minor": 5
}
