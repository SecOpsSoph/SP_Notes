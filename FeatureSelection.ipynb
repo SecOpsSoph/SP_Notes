{
 "cells": [
  {
   "cell_type": "markdown",
   "id": "acdc9f11",
   "metadata": {},
   "source": [
    "# Feature selection\n",
    "- Often a model can be limited by the amount of features and their relevancy, algo's struggle with data that has too many dimensions\n",
    "\n",
    "    This is called the <b> cures of dimensionality </b>\n",
    "- If successful this can reduce the cost and increase accuracy\n",
    "\n",
    "- Video tutorial followed: https://www.youtube.com/watch?v=iJ5c-XoHPFo"
   ]
  },
  {
   "cell_type": "markdown",
   "id": "8519b880",
   "metadata": {},
   "source": [
    "<b> example with the boston housing dataset </b>\n",
    "\n",
    "(Although i acknowledge that this dataset is problematic and that we should be aware of what data we are using and the effects)"
   ]
  },
  {
   "cell_type": "code",
   "execution_count": 47,
   "id": "570684f2",
   "metadata": {},
   "outputs": [],
   "source": [
    "import warnings\n",
    "warnings.filterwarnings('ignore', '.*do not.*', )\n",
    "warnings.warn('DelftStack')\n",
    "warnings.warn('Do not show this message')\n",
    "warnings.filterwarnings('ignore', 'UserWarning')"
   ]
  },
  {
   "cell_type": "code",
   "execution_count": 48,
   "id": "2425616d",
   "metadata": {},
   "outputs": [],
   "source": [
    "import sklearn as sk"
   ]
  },
  {
   "cell_type": "code",
   "execution_count": 49,
   "id": "1af29791",
   "metadata": {},
   "outputs": [],
   "source": [
    "from sklearn.datasets import load_boston\n",
    "boston_data = load_boston()\n",
    "import pandas as pd\n",
    "import numpy as np"
   ]
  },
  {
   "cell_type": "code",
   "execution_count": 50,
   "id": "7de4d40c",
   "metadata": {},
   "outputs": [],
   "source": [
    "boston= pd.DataFrame(boston_data.data, columns= boston_data.feature_names)\n",
    "boston['MEDV'] = boston_data.target\n",
    "#The next line puts RAD as type category ( catagorical var)\n",
    "\n",
    "dummies = pd.get_dummies(boston.RAD)\n",
    "boston= boston.drop(columns='RAD').merge(dummies, left_index=True, right_index= True)\n",
    "X = boston.drop(columns='MEDV')\n",
    "y= boston.MEDV"
   ]
  },
  {
   "cell_type": "code",
   "execution_count": 51,
   "id": "2faad029",
   "metadata": {},
   "outputs": [
    {
     "data": {
      "text/html": [
       "<div>\n",
       "<style scoped>\n",
       "    .dataframe tbody tr th:only-of-type {\n",
       "        vertical-align: middle;\n",
       "    }\n",
       "\n",
       "    .dataframe tbody tr th {\n",
       "        vertical-align: top;\n",
       "    }\n",
       "\n",
       "    .dataframe thead th {\n",
       "        text-align: right;\n",
       "    }\n",
       "</style>\n",
       "<table border=\"1\" class=\"dataframe\">\n",
       "  <thead>\n",
       "    <tr style=\"text-align: right;\">\n",
       "      <th></th>\n",
       "      <th>CRIM</th>\n",
       "      <th>ZN</th>\n",
       "      <th>INDUS</th>\n",
       "      <th>CHAS</th>\n",
       "      <th>NOX</th>\n",
       "      <th>RM</th>\n",
       "      <th>AGE</th>\n",
       "      <th>DIS</th>\n",
       "      <th>TAX</th>\n",
       "      <th>PTRATIO</th>\n",
       "      <th>...</th>\n",
       "      <th>MEDV</th>\n",
       "      <th>1.0</th>\n",
       "      <th>2.0</th>\n",
       "      <th>3.0</th>\n",
       "      <th>4.0</th>\n",
       "      <th>5.0</th>\n",
       "      <th>6.0</th>\n",
       "      <th>7.0</th>\n",
       "      <th>8.0</th>\n",
       "      <th>24.0</th>\n",
       "    </tr>\n",
       "  </thead>\n",
       "  <tbody>\n",
       "    <tr>\n",
       "      <th>0</th>\n",
       "      <td>0.00632</td>\n",
       "      <td>18.0</td>\n",
       "      <td>2.31</td>\n",
       "      <td>0.0</td>\n",
       "      <td>0.538</td>\n",
       "      <td>6.575</td>\n",
       "      <td>65.2</td>\n",
       "      <td>4.0900</td>\n",
       "      <td>296.0</td>\n",
       "      <td>15.3</td>\n",
       "      <td>...</td>\n",
       "      <td>24.0</td>\n",
       "      <td>1</td>\n",
       "      <td>0</td>\n",
       "      <td>0</td>\n",
       "      <td>0</td>\n",
       "      <td>0</td>\n",
       "      <td>0</td>\n",
       "      <td>0</td>\n",
       "      <td>0</td>\n",
       "      <td>0</td>\n",
       "    </tr>\n",
       "    <tr>\n",
       "      <th>1</th>\n",
       "      <td>0.02731</td>\n",
       "      <td>0.0</td>\n",
       "      <td>7.07</td>\n",
       "      <td>0.0</td>\n",
       "      <td>0.469</td>\n",
       "      <td>6.421</td>\n",
       "      <td>78.9</td>\n",
       "      <td>4.9671</td>\n",
       "      <td>242.0</td>\n",
       "      <td>17.8</td>\n",
       "      <td>...</td>\n",
       "      <td>21.6</td>\n",
       "      <td>0</td>\n",
       "      <td>1</td>\n",
       "      <td>0</td>\n",
       "      <td>0</td>\n",
       "      <td>0</td>\n",
       "      <td>0</td>\n",
       "      <td>0</td>\n",
       "      <td>0</td>\n",
       "      <td>0</td>\n",
       "    </tr>\n",
       "    <tr>\n",
       "      <th>2</th>\n",
       "      <td>0.02729</td>\n",
       "      <td>0.0</td>\n",
       "      <td>7.07</td>\n",
       "      <td>0.0</td>\n",
       "      <td>0.469</td>\n",
       "      <td>7.185</td>\n",
       "      <td>61.1</td>\n",
       "      <td>4.9671</td>\n",
       "      <td>242.0</td>\n",
       "      <td>17.8</td>\n",
       "      <td>...</td>\n",
       "      <td>34.7</td>\n",
       "      <td>0</td>\n",
       "      <td>1</td>\n",
       "      <td>0</td>\n",
       "      <td>0</td>\n",
       "      <td>0</td>\n",
       "      <td>0</td>\n",
       "      <td>0</td>\n",
       "      <td>0</td>\n",
       "      <td>0</td>\n",
       "    </tr>\n",
       "    <tr>\n",
       "      <th>3</th>\n",
       "      <td>0.03237</td>\n",
       "      <td>0.0</td>\n",
       "      <td>2.18</td>\n",
       "      <td>0.0</td>\n",
       "      <td>0.458</td>\n",
       "      <td>6.998</td>\n",
       "      <td>45.8</td>\n",
       "      <td>6.0622</td>\n",
       "      <td>222.0</td>\n",
       "      <td>18.7</td>\n",
       "      <td>...</td>\n",
       "      <td>33.4</td>\n",
       "      <td>0</td>\n",
       "      <td>0</td>\n",
       "      <td>1</td>\n",
       "      <td>0</td>\n",
       "      <td>0</td>\n",
       "      <td>0</td>\n",
       "      <td>0</td>\n",
       "      <td>0</td>\n",
       "      <td>0</td>\n",
       "    </tr>\n",
       "    <tr>\n",
       "      <th>4</th>\n",
       "      <td>0.06905</td>\n",
       "      <td>0.0</td>\n",
       "      <td>2.18</td>\n",
       "      <td>0.0</td>\n",
       "      <td>0.458</td>\n",
       "      <td>7.147</td>\n",
       "      <td>54.2</td>\n",
       "      <td>6.0622</td>\n",
       "      <td>222.0</td>\n",
       "      <td>18.7</td>\n",
       "      <td>...</td>\n",
       "      <td>36.2</td>\n",
       "      <td>0</td>\n",
       "      <td>0</td>\n",
       "      <td>1</td>\n",
       "      <td>0</td>\n",
       "      <td>0</td>\n",
       "      <td>0</td>\n",
       "      <td>0</td>\n",
       "      <td>0</td>\n",
       "      <td>0</td>\n",
       "    </tr>\n",
       "    <tr>\n",
       "      <th>5</th>\n",
       "      <td>0.02985</td>\n",
       "      <td>0.0</td>\n",
       "      <td>2.18</td>\n",
       "      <td>0.0</td>\n",
       "      <td>0.458</td>\n",
       "      <td>6.430</td>\n",
       "      <td>58.7</td>\n",
       "      <td>6.0622</td>\n",
       "      <td>222.0</td>\n",
       "      <td>18.7</td>\n",
       "      <td>...</td>\n",
       "      <td>28.7</td>\n",
       "      <td>0</td>\n",
       "      <td>0</td>\n",
       "      <td>1</td>\n",
       "      <td>0</td>\n",
       "      <td>0</td>\n",
       "      <td>0</td>\n",
       "      <td>0</td>\n",
       "      <td>0</td>\n",
       "      <td>0</td>\n",
       "    </tr>\n",
       "    <tr>\n",
       "      <th>6</th>\n",
       "      <td>0.08829</td>\n",
       "      <td>12.5</td>\n",
       "      <td>7.87</td>\n",
       "      <td>0.0</td>\n",
       "      <td>0.524</td>\n",
       "      <td>6.012</td>\n",
       "      <td>66.6</td>\n",
       "      <td>5.5605</td>\n",
       "      <td>311.0</td>\n",
       "      <td>15.2</td>\n",
       "      <td>...</td>\n",
       "      <td>22.9</td>\n",
       "      <td>0</td>\n",
       "      <td>0</td>\n",
       "      <td>0</td>\n",
       "      <td>0</td>\n",
       "      <td>1</td>\n",
       "      <td>0</td>\n",
       "      <td>0</td>\n",
       "      <td>0</td>\n",
       "      <td>0</td>\n",
       "    </tr>\n",
       "    <tr>\n",
       "      <th>7</th>\n",
       "      <td>0.14455</td>\n",
       "      <td>12.5</td>\n",
       "      <td>7.87</td>\n",
       "      <td>0.0</td>\n",
       "      <td>0.524</td>\n",
       "      <td>6.172</td>\n",
       "      <td>96.1</td>\n",
       "      <td>5.9505</td>\n",
       "      <td>311.0</td>\n",
       "      <td>15.2</td>\n",
       "      <td>...</td>\n",
       "      <td>27.1</td>\n",
       "      <td>0</td>\n",
       "      <td>0</td>\n",
       "      <td>0</td>\n",
       "      <td>0</td>\n",
       "      <td>1</td>\n",
       "      <td>0</td>\n",
       "      <td>0</td>\n",
       "      <td>0</td>\n",
       "      <td>0</td>\n",
       "    </tr>\n",
       "    <tr>\n",
       "      <th>8</th>\n",
       "      <td>0.21124</td>\n",
       "      <td>12.5</td>\n",
       "      <td>7.87</td>\n",
       "      <td>0.0</td>\n",
       "      <td>0.524</td>\n",
       "      <td>5.631</td>\n",
       "      <td>100.0</td>\n",
       "      <td>6.0821</td>\n",
       "      <td>311.0</td>\n",
       "      <td>15.2</td>\n",
       "      <td>...</td>\n",
       "      <td>16.5</td>\n",
       "      <td>0</td>\n",
       "      <td>0</td>\n",
       "      <td>0</td>\n",
       "      <td>0</td>\n",
       "      <td>1</td>\n",
       "      <td>0</td>\n",
       "      <td>0</td>\n",
       "      <td>0</td>\n",
       "      <td>0</td>\n",
       "    </tr>\n",
       "    <tr>\n",
       "      <th>9</th>\n",
       "      <td>0.17004</td>\n",
       "      <td>12.5</td>\n",
       "      <td>7.87</td>\n",
       "      <td>0.0</td>\n",
       "      <td>0.524</td>\n",
       "      <td>6.004</td>\n",
       "      <td>85.9</td>\n",
       "      <td>6.5921</td>\n",
       "      <td>311.0</td>\n",
       "      <td>15.2</td>\n",
       "      <td>...</td>\n",
       "      <td>18.9</td>\n",
       "      <td>0</td>\n",
       "      <td>0</td>\n",
       "      <td>0</td>\n",
       "      <td>0</td>\n",
       "      <td>1</td>\n",
       "      <td>0</td>\n",
       "      <td>0</td>\n",
       "      <td>0</td>\n",
       "      <td>0</td>\n",
       "    </tr>\n",
       "  </tbody>\n",
       "</table>\n",
       "<p>10 rows × 22 columns</p>\n",
       "</div>"
      ],
      "text/plain": [
       "      CRIM    ZN  INDUS  CHAS    NOX     RM    AGE     DIS    TAX  PTRATIO  \\\n",
       "0  0.00632  18.0   2.31   0.0  0.538  6.575   65.2  4.0900  296.0     15.3   \n",
       "1  0.02731   0.0   7.07   0.0  0.469  6.421   78.9  4.9671  242.0     17.8   \n",
       "2  0.02729   0.0   7.07   0.0  0.469  7.185   61.1  4.9671  242.0     17.8   \n",
       "3  0.03237   0.0   2.18   0.0  0.458  6.998   45.8  6.0622  222.0     18.7   \n",
       "4  0.06905   0.0   2.18   0.0  0.458  7.147   54.2  6.0622  222.0     18.7   \n",
       "5  0.02985   0.0   2.18   0.0  0.458  6.430   58.7  6.0622  222.0     18.7   \n",
       "6  0.08829  12.5   7.87   0.0  0.524  6.012   66.6  5.5605  311.0     15.2   \n",
       "7  0.14455  12.5   7.87   0.0  0.524  6.172   96.1  5.9505  311.0     15.2   \n",
       "8  0.21124  12.5   7.87   0.0  0.524  5.631  100.0  6.0821  311.0     15.2   \n",
       "9  0.17004  12.5   7.87   0.0  0.524  6.004   85.9  6.5921  311.0     15.2   \n",
       "\n",
       "   ...  MEDV  1.0  2.0  3.0  4.0  5.0  6.0  7.0  8.0  24.0  \n",
       "0  ...  24.0    1    0    0    0    0    0    0    0     0  \n",
       "1  ...  21.6    0    1    0    0    0    0    0    0     0  \n",
       "2  ...  34.7    0    1    0    0    0    0    0    0     0  \n",
       "3  ...  33.4    0    0    1    0    0    0    0    0     0  \n",
       "4  ...  36.2    0    0    1    0    0    0    0    0     0  \n",
       "5  ...  28.7    0    0    1    0    0    0    0    0     0  \n",
       "6  ...  22.9    0    0    0    0    1    0    0    0     0  \n",
       "7  ...  27.1    0    0    0    0    1    0    0    0     0  \n",
       "8  ...  16.5    0    0    0    0    1    0    0    0     0  \n",
       "9  ...  18.9    0    0    0    0    1    0    0    0     0  \n",
       "\n",
       "[10 rows x 22 columns]"
      ]
     },
     "execution_count": 51,
     "metadata": {},
     "output_type": "execute_result"
    }
   ],
   "source": [
    "boston.head(10)"
   ]
  },
  {
   "cell_type": "code",
   "execution_count": 53,
   "id": "b8b7de19",
   "metadata": {},
   "outputs": [],
   "source": [
    "from sklearn.preprocessing import StandardScaler\n",
    "from sklearn.pipeline import make_pipeline\n",
    "from sklearn.model_selection import KFold\n",
    "from sklearn.neighbors import KNeighborsRegressor\n",
    "from sklearn.metrics import mean_squared_error, r2_score\n",
    "from sklearn.model_selection import cross_val_predict\n",
    "from sklearn.linear_model import LinearRegression\n",
    "from math import sqrt"
   ]
  },
  {
   "cell_type": "code",
   "execution_count": 52,
   "id": "2fa52e98",
   "metadata": {},
   "outputs": [],
   "source": [
    "cv = KFold(n_splits=10, random_state=0, shuffle=True)\n",
    "\n",
    "classifier_pipeline = make_pipeline(StandardScaler(), KNeighborsRegressor(n_neighbors=10)) \n",
    "\n",
    "y_pred = cross_val_predict(classifier_pipeline, X, y, cv=cv)\n",
    "\n"
   ]
  },
  {
   "cell_type": "code",
   "execution_count": 54,
   "id": "7f9c8d5d",
   "metadata": {},
   "outputs": [
    {
     "name": "stdout",
     "output_type": "stream",
     "text": [
      "RSME:5\n",
      "R_Squared: 0.66\n"
     ]
    }
   ],
   "source": [
    "print(\"RSME:\" + str(round(sqrt(mean_squared_error(y,y_pred)))))\n",
    "print(\"R_Squared: \" + str(round(r2_score(y,y_pred),2)))"
   ]
  },
  {
   "cell_type": "markdown",
   "id": "9507b205",
   "metadata": {},
   "source": [
    "We are looking for vals that don't have much varience ( don't change much in their vals. )\n",
    "If the val is very low, it's unlikley that they will be good for prediction wheras high-varience can often be explaining whats going on in the data"
   ]
  },
  {
   "cell_type": "code",
   "execution_count": 35,
   "id": "7aba937c",
   "metadata": {},
   "outputs": [
    {
     "data": {
      "text/plain": [
       "CRIM          73.986578\n",
       "ZN           543.936814\n",
       "INDUS         47.064442\n",
       "CHAS           0.064513\n",
       "NOX            0.013428\n",
       "RM             0.493671\n",
       "AGE          792.358399\n",
       "DIS            4.434015\n",
       "TAX        28404.759488\n",
       "PTRATIO        4.686989\n",
       "B           8334.752263\n",
       "LSTAT         50.994760\n",
       "MEDV          84.586724\n",
       "1.0            0.038039\n",
       "2.0            0.045271\n",
       "3.0            0.069597\n",
       "4.0            0.170469\n",
       "5.0            0.175968\n",
       "6.0            0.048840\n",
       "7.0            0.032532\n",
       "8.0            0.045271\n",
       "24.0           0.193198\n",
       "dtype: float64"
      ]
     },
     "execution_count": 35,
     "metadata": {},
     "output_type": "execute_result"
    }
   ],
   "source": [
    "boston.var()"
   ]
  },
  {
   "cell_type": "markdown",
   "id": "6bce29f7",
   "metadata": {},
   "source": [
    "so here we could drop CHAS and NOX"
   ]
  },
  {
   "cell_type": "code",
   "execution_count": 55,
   "id": "c5021490",
   "metadata": {},
   "outputs": [],
   "source": [
    "X=X.drop(columns= ['NOX', 'CHAS'])"
   ]
  },
  {
   "cell_type": "code",
   "execution_count": 72,
   "id": "6d85cbd5",
   "metadata": {},
   "outputs": [
    {
     "name": "stdout",
     "output_type": "stream",
     "text": [
      "RSME:5\n",
      "R_Squared: 0.69\n"
     ]
    }
   ],
   "source": [
    "y_pred= cross_val_predict(classifier_pipeline, X, y, cv=cv)\n",
    "print(\"RSME:\" + str(round(sqrt(mean_squared_error(y,y_pred)))))\n",
    "print(\"R_Squared: \" + str(round(r2_score(y,y_pred),2)))"
   ]
  },
  {
   "cell_type": "code",
   "execution_count": 57,
   "id": "fffddbe3",
   "metadata": {},
   "outputs": [],
   "source": [
    "import seaborn as sn\n",
    "import matplotlib.pyplot as plt\n"
   ]
  },
  {
   "cell_type": "code",
   "execution_count": 58,
   "id": "4f8e427e",
   "metadata": {},
   "outputs": [
    {
     "data": {
      "image/png": "[encoded data removed]",
      "text/plain": [
       "<Figure size 864x576 with 2 Axes>"
      ]
     },
     "metadata": {
      "needs_background": "light"
     },
     "output_type": "display_data"
    }
   ],
   "source": [
    "fig_dims=(12,8)\n",
    "fig,ax = plt.subplots(figsize=fig_dims)\n",
    "sn.heatmap(boston.corr(), ax=ax)\n",
    "plt.show()"
   ]
  },
  {
   "cell_type": "code",
   "execution_count": 59,
   "id": "7d8771ba",
   "metadata": {},
   "outputs": [
    {
     "data": {
      "text/plain": [
       "CRIM       0.388305\n",
       "ZN         0.360445\n",
       "INDUS      0.483725\n",
       "CHAS       0.175260\n",
       "NOX        0.427321\n",
       "RM         0.695360\n",
       "AGE        0.376955\n",
       "DIS        0.249929\n",
       "TAX        0.468536\n",
       "PTRATIO    0.507787\n",
       "B          0.333461\n",
       "LSTAT      0.737663\n",
       "MEDV       1.000000\n",
       "1.0        0.040453\n",
       "2.0        0.104444\n",
       "3.0        0.167352\n",
       "4.0        0.065711\n",
       "5.0        0.187356\n",
       "6.0        0.039411\n",
       "7.0        0.092802\n",
       "8.0        0.190053\n",
       "24.0       0.396297\n",
       "Name: MEDV, dtype: float64"
      ]
     },
     "execution_count": 59,
     "metadata": {},
     "output_type": "execute_result"
    }
   ],
   "source": [
    "abs(boston.corr()[\"MEDV\"])"
   ]
  },
  {
   "cell_type": "code",
   "execution_count": 61,
   "id": "c6f4d248",
   "metadata": {},
   "outputs": [
    {
     "data": {
      "text/plain": [
       "['RM', 'PTRATIO', 'LSTAT']"
      ]
     },
     "execution_count": 61,
     "metadata": {},
     "output_type": "execute_result"
    }
   ],
   "source": [
    "abs(boston.corr()[\"MEDV\"])[abs(boston.corr()[\"MEDV\"])>0.5].drop(\"MEDV\").index.tolist()"
   ]
  },
  {
   "cell_type": "code",
   "execution_count": 74,
   "id": "181eb8d2",
   "metadata": {},
   "outputs": [
    {
     "name": "stdout",
     "output_type": "stream",
     "text": [
      "['CRIM', 'ZN', 'INDUS', 'CHAS', 'NOX', 'RM', 'AGE', 'DIS', 'TAX', 'PTRATIO', 'B', 'LSTAT', 2.0, 3.0, 5.0, 8.0, 24.0]\n",
      "['CRIM', 'ZN', 'INDUS', 'NOX', 'RM', 'AGE', 'DIS', 'TAX', 'PTRATIO', 'B', 'LSTAT', 24.0]\n",
      "['CRIM', 'ZN', 'INDUS', 'NOX', 'RM', 'AGE', 'TAX', 'PTRATIO', 'B', 'LSTAT', 24.0]\n",
      "['INDUS', 'NOX', 'RM', 'TAX', 'PTRATIO', 'LSTAT']\n",
      "['RM', 'PTRATIO', 'LSTAT']\n",
      "['RM', 'LSTAT']\n",
      "['LSTAT']\n"
     ]
    }
   ],
   "source": [
    "vals= [0.1, 0.2, 0.3, 0.4 , 0.5, 0.6, 0.7]\n",
    "for val in vals:\n",
    "    features= abs(boston.corr()[\"MEDV\"][abs(boston.corr()[\"MEDV\"]) >val].drop('MEDV')).index.tolist()\n",
    "\n",
    "    X= boston.drop(columns='MEDV')\n",
    "    X=X[features]\n",
    "    \n",
    "    print(features)\n",
    "\n",
    "    y_pred= cross_val_predict(classifier_pipeline, X, y, cv=cv)\n",
    "\n",
    "# print(\"RSME:\" + str(round(sqrt(mean_squared_error(X,y_pred)),2)))\n",
    "   # print(\"R_squared: \" + str(round(r2_score(y,y_pred),2)))\n",
    "   #couldnt get the print val to sodding work but basically removes some at a time"
   ]
  },
  {
   "cell_type": "markdown",
   "id": "b58edfd7",
   "metadata": {},
   "source": [
    "This rate the features by correlation, knows out feature that is not as correlated"
   ]
  },
  {
   "cell_type": "markdown",
   "id": "6bca659c",
   "metadata": {},
   "source": [
    "Next up at 15:00 is Feature selection usign a wrapper"
   ]
  }
 ],
 "metadata": {
  "kernelspec": {
   "display_name": "Python 3 (ipykernel)",
   "language": "python",
   "name": "python3"
  },
  "language_info": {
   "codemirror_mode": {
    "name": "ipython",
    "version": 3
   },
   "file_extension": ".py",
   "mimetype": "text/x-python",
   "name": "python",
   "nbconvert_exporter": "python",
   "pygments_lexer": "ipython3",
   "version": "3.9.10"
  }
 },
 "nbformat": 4,
 "nbformat_minor": 5
}
