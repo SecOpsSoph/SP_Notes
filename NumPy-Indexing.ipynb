{
 "cells": [
  {
   "cell_type": "markdown",
   "id": "f21897e1-84e5-4be1-ad81-e336627cbf4b",
   "metadata": {},
   "source": [
    "# NumPy Indexing and Selection"
   ]
  },
  {
   "cell_type": "code",
   "execution_count": 1,
   "id": "dfa35fcd-d560-47c3-ae03-7181eae8ba18",
   "metadata": {},
   "outputs": [],
   "source": [
    "import numpy as np"
   ]
  },
  {
   "cell_type": "code",
   "execution_count": 2,
   "id": "46993283-2901-4c76-8b02-f693f5f858be",
   "metadata": {},
   "outputs": [],
   "source": [
    "arr= np.arange(0,11)"
   ]
  },
  {
   "cell_type": "code",
   "execution_count": 7,
   "id": "54dc993b-4462-4815-8058-8f5bd0773cf4",
   "metadata": {},
   "outputs": [
    {
     "data": {
      "text/plain": [
       "array([ 0,  1,  2,  3,  4,  5,  6,  7,  8,  9, 10])"
      ]
     },
     "execution_count": 7,
     "metadata": {},
     "output_type": "execute_result"
    }
   ],
   "source": [
    "arr"
   ]
  },
  {
   "cell_type": "code",
   "execution_count": 3,
   "id": "3a44517f-cc87-4080-ae5f-ac4b7b2d5ca2",
   "metadata": {},
   "outputs": [
    {
     "data": {
      "text/plain": [
       "8"
      ]
     },
     "execution_count": 3,
     "metadata": {},
     "output_type": "execute_result"
    }
   ],
   "source": [
    "arr[8]"
   ]
  },
  {
   "cell_type": "markdown",
   "id": "c7cf5605-a55b-41c9-a730-c871bfbb7ac8",
   "metadata": {},
   "source": [
    "You can also use <b>slice:</b>\n",
    "(in a similar way to python)"
   ]
  },
  {
   "cell_type": "code",
   "execution_count": 4,
   "id": "1085e6b7-2ce3-48e6-a451-ad986adc1182",
   "metadata": {},
   "outputs": [
    {
     "data": {
      "text/plain": [
       "array([1, 2, 3, 4])"
      ]
     },
     "execution_count": 4,
     "metadata": {},
     "output_type": "execute_result"
    }
   ],
   "source": [
    "arr[1:5]"
   ]
  },
  {
   "cell_type": "code",
   "execution_count": 5,
   "id": "c417756d-1559-4555-8b54-6d2d0a464d0f",
   "metadata": {},
   "outputs": [
    {
     "data": {
      "text/plain": [
       "array([0, 1, 2, 3, 4])"
      ]
     },
     "execution_count": 5,
     "metadata": {},
     "output_type": "execute_result"
    }
   ],
   "source": [
    "arr[0:5]"
   ]
  },
  {
   "cell_type": "code",
   "execution_count": 6,
   "id": "c0b921b7-eab9-42a9-9915-c0a42d204e0e",
   "metadata": {},
   "outputs": [
    {
     "data": {
      "text/plain": [
       "array([0, 1, 2, 3, 4, 5])"
      ]
     },
     "execution_count": 6,
     "metadata": {},
     "output_type": "execute_result"
    }
   ],
   "source": [
    "arr[:6]"
   ]
  },
  {
   "cell_type": "code",
   "execution_count": 8,
   "id": "b00b3ccb-e670-4f56-8869-1ac632d242c6",
   "metadata": {},
   "outputs": [
    {
     "data": {
      "text/plain": [
       "array([0, 1, 2, 3, 4, 5])"
      ]
     },
     "execution_count": 8,
     "metadata": {},
     "output_type": "execute_result"
    }
   ],
   "source": [
    "arr[0:6]"
   ]
  },
  {
   "cell_type": "code",
   "execution_count": 9,
   "id": "af19dc36-0431-461a-83eb-111a9f5e0fcd",
   "metadata": {},
   "outputs": [
    {
     "data": {
      "text/plain": [
       "array([ 5,  6,  7,  8,  9, 10])"
      ]
     },
     "execution_count": 9,
     "metadata": {},
     "output_type": "execute_result"
    }
   ],
   "source": [
    "arr[5:]"
   ]
  },
  {
   "cell_type": "markdown",
   "id": "5de89c11-53a3-4843-98aa-e3ead2df4eed",
   "metadata": {},
   "source": [
    "NumPy arrays differ from python arrays due to their ability to <b> broadcast </b>"
   ]
  },
  {
   "cell_type": "code",
   "execution_count": 10,
   "id": "045dd9ec-39cb-495a-b066-2d0a9cb882d5",
   "metadata": {},
   "outputs": [],
   "source": [
    "arr[0:5] = 100"
   ]
  },
  {
   "cell_type": "code",
   "execution_count": 11,
   "id": "a7d5357a-8cb6-4b43-a52d-0dd713996f13",
   "metadata": {},
   "outputs": [
    {
     "data": {
      "text/plain": [
       "array([100, 100, 100, 100, 100,   5,   6,   7,   8,   9,  10])"
      ]
     },
     "execution_count": 11,
     "metadata": {},
     "output_type": "execute_result"
    }
   ],
   "source": [
    "arr"
   ]
  },
  {
   "cell_type": "code",
   "execution_count": 19,
   "id": "7027372f-ea25-4245-bdd4-c30cfe408070",
   "metadata": {},
   "outputs": [],
   "source": [
    "arr= np.arange(0,11)"
   ]
  },
  {
   "cell_type": "code",
   "execution_count": 13,
   "id": "d7e55b20-9458-4e49-ab58-5d02f3fc4ea1",
   "metadata": {},
   "outputs": [
    {
     "data": {
      "text/plain": [
       "array([ 0,  1,  2,  3,  4,  5,  6,  7,  8,  9, 10])"
      ]
     },
     "execution_count": 13,
     "metadata": {},
     "output_type": "execute_result"
    }
   ],
   "source": [
    "arr"
   ]
  },
  {
   "cell_type": "code",
   "execution_count": 14,
   "id": "b3750348-495e-406b-849b-c930b47fb198",
   "metadata": {},
   "outputs": [],
   "source": [
    "slice_of_arr= arr[0:6]"
   ]
  },
  {
   "cell_type": "code",
   "execution_count": 15,
   "id": "f56ff64c-a0d9-48ab-a524-f5afc9130500",
   "metadata": {},
   "outputs": [
    {
     "data": {
      "text/plain": [
       "array([0, 1, 2, 3, 4, 5])"
      ]
     },
     "execution_count": 15,
     "metadata": {},
     "output_type": "execute_result"
    }
   ],
   "source": [
    "slice_of_arr"
   ]
  },
  {
   "cell_type": "code",
   "execution_count": 16,
   "id": "f3972ddc-1759-4d1c-ba12-d79e86ae1c60",
   "metadata": {},
   "outputs": [],
   "source": [
    "slice_of_arr[:]=99"
   ]
  },
  {
   "cell_type": "code",
   "execution_count": 17,
   "id": "09273968-7893-4d9d-be7d-7470685cc7f2",
   "metadata": {},
   "outputs": [
    {
     "data": {
      "text/plain": [
       "array([99, 99, 99, 99, 99, 99])"
      ]
     },
     "execution_count": 17,
     "metadata": {},
     "output_type": "execute_result"
    }
   ],
   "source": [
    "slice_of_arr"
   ]
  },
  {
   "cell_type": "code",
   "execution_count": 18,
   "id": "34eb1d4e-d2bc-4b46-9d7c-b7c3c4fce128",
   "metadata": {},
   "outputs": [
    {
     "data": {
      "text/plain": [
       "array([99, 99, 99, 99, 99, 99,  6,  7,  8,  9, 10])"
      ]
     },
     "execution_count": 18,
     "metadata": {},
     "output_type": "execute_result"
    }
   ],
   "source": [
    "arr"
   ]
  },
  {
   "cell_type": "markdown",
   "id": "d381a01b-72f9-4b81-a0a9-fdb9c0f4a747",
   "metadata": {},
   "source": [
    "Data is not copied, it's a view of the original array! This avoids memory problems!"
   ]
  },
  {
   "cell_type": "markdown",
   "id": "5be6543b-3870-4dea-85b4-ec2b899076a9",
   "metadata": {},
   "source": [
    "This happens as you are changing a <b> slice of the array </b>\n",
    "To avoid this you need to explicitley state that you want a <b> copy of the array</b>.\n",
    "Changes made to this <b>copy</b> won't affect the original array"
   ]
  },
  {
   "cell_type": "code",
   "execution_count": 20,
   "id": "c5648fa0-d7f8-4f80-89f0-446bba6d840d",
   "metadata": {},
   "outputs": [
    {
     "data": {
      "text/plain": [
       "array([ 0,  1,  2,  3,  4,  5,  6,  7,  8,  9, 10])"
      ]
     },
     "execution_count": 20,
     "metadata": {},
     "output_type": "execute_result"
    }
   ],
   "source": [
    "arr"
   ]
  },
  {
   "cell_type": "code",
   "execution_count": 22,
   "id": "1d655bdd-2b85-4ff7-a808-eecaeef821fd",
   "metadata": {},
   "outputs": [],
   "source": [
    "arr_copy= arr.copy()"
   ]
  },
  {
   "cell_type": "code",
   "execution_count": 23,
   "id": "8c1482ac-7514-4df8-9d79-d1f6f9bdd1f5",
   "metadata": {},
   "outputs": [
    {
     "data": {
      "text/plain": [
       "array([100, 100, 100, 100, 100, 100, 100, 100, 100, 100, 100])"
      ]
     },
     "execution_count": 23,
     "metadata": {},
     "output_type": "execute_result"
    }
   ],
   "source": [
    "arr_copy[:]=100\n",
    "arr_copy"
   ]
  },
  {
   "cell_type": "code",
   "execution_count": 24,
   "id": "7b5c4e3b-4fb4-47f1-a9bb-d007d62855b8",
   "metadata": {},
   "outputs": [
    {
     "data": {
      "text/plain": [
       "array([ 0,  1,  2,  3,  4,  5,  6,  7,  8,  9, 10])"
      ]
     },
     "execution_count": 24,
     "metadata": {},
     "output_type": "execute_result"
    }
   ],
   "source": [
    "arr"
   ]
  },
  {
   "cell_type": "markdown",
   "id": "f598edc7-7034-4ae5-a7f0-d968c08d5298",
   "metadata": {},
   "source": [
    "Indexing a 2-Dimensional array/ <b>matrix</b>"
   ]
  },
  {
   "cell_type": "code",
   "execution_count": 25,
   "id": "b94917f8-ca36-4d6b-a699-bba0f4fa9349",
   "metadata": {},
   "outputs": [],
   "source": [
    "arr_2d= np.array([[5,10,15],[20,25,30],[35,40,45]])"
   ]
  },
  {
   "cell_type": "code",
   "execution_count": 26,
   "id": "07503d0c-a2ac-471a-b255-01463f3592a4",
   "metadata": {},
   "outputs": [
    {
     "data": {
      "text/plain": [
       "array([[ 5, 10, 15],\n",
       "       [20, 25, 30],\n",
       "       [35, 40, 45]])"
      ]
     },
     "execution_count": 26,
     "metadata": {},
     "output_type": "execute_result"
    }
   ],
   "source": [
    "arr_2d\n"
   ]
  },
  {
   "cell_type": "markdown",
   "id": "ccbac0c0-7220-40d6-8d55-f8a118a1ac54",
   "metadata": {},
   "source": [
    "2 ways of grabbing from a 2-d array: \n",
    "- Single bracket format (betetr for use )\n",
    "- Double bracket format"
   ]
  },
  {
   "cell_type": "markdown",
   "id": "51f62b00-f971-437a-a053-879a43e2642a",
   "metadata": {},
   "source": [
    "<b>Double Bracket format: </b>"
   ]
  },
  {
   "cell_type": "code",
   "execution_count": 27,
   "id": "cbf90f0d-3919-413e-b83c-21ac6823fe07",
   "metadata": {},
   "outputs": [
    {
     "data": {
      "text/plain": [
       "array([[ 5, 10, 15],\n",
       "       [20, 25, 30],\n",
       "       [35, 40, 45]])"
      ]
     },
     "execution_count": 27,
     "metadata": {},
     "output_type": "execute_result"
    }
   ],
   "source": [
    "arr_2d"
   ]
  },
  {
   "cell_type": "code",
   "execution_count": 28,
   "id": "a38cbc00-d4c5-4fd3-aa38-e35772d184cc",
   "metadata": {},
   "outputs": [
    {
     "data": {
      "text/plain": [
       "5"
      ]
     },
     "execution_count": 28,
     "metadata": {},
     "output_type": "execute_result"
    }
   ],
   "source": [
    "arr_2d[0][0]"
   ]
  },
  {
   "cell_type": "markdown",
   "id": "04b0eaf6-a064-4dc8-a6f0-5a54eb0506d1",
   "metadata": {},
   "source": [
    "This will grab the item on <b> row 1,column 1 </b> "
   ]
  },
  {
   "cell_type": "code",
   "execution_count": 29,
   "id": "4999b7c2-e4f5-4ff9-bf7d-09c7b77b3b91",
   "metadata": {},
   "outputs": [
    {
     "data": {
      "text/plain": [
       "array([ 5, 10, 15])"
      ]
     },
     "execution_count": 29,
     "metadata": {},
     "output_type": "execute_result"
    }
   ],
   "source": [
    "arr_2d[0]"
   ]
  },
  {
   "cell_type": "code",
   "execution_count": 31,
   "id": "8c38c8b2-138a-4d29-9935-174aa35868ed",
   "metadata": {},
   "outputs": [
    {
     "data": {
      "text/plain": [
       "40"
      ]
     },
     "execution_count": 31,
     "metadata": {},
     "output_type": "execute_result"
    }
   ],
   "source": [
    "arr_2d[2][1]"
   ]
  },
  {
   "cell_type": "code",
   "execution_count": 32,
   "id": "872f06e3-6274-46c3-bea5-116e61a3f7f0",
   "metadata": {},
   "outputs": [
    {
     "data": {
      "text/plain": [
       "40"
      ]
     },
     "execution_count": 32,
     "metadata": {},
     "output_type": "execute_result"
    }
   ],
   "source": [
    "arr_2d[2,1]"
   ]
  },
  {
   "cell_type": "markdown",
   "id": "1cd88073-f531-4871-8493-e7ff59bf5831",
   "metadata": {},
   "source": [
    "<b>To get chunks rather than elements: </b>\n",
    "(we can us slice notation)"
   ]
  },
  {
   "cell_type": "code",
   "execution_count": 33,
   "id": "31062b69-0af0-4e69-aee1-89e6cf5a3be5",
   "metadata": {},
   "outputs": [
    {
     "data": {
      "text/plain": [
       "array([[ 5, 10, 15],\n",
       "       [20, 25, 30],\n",
       "       [35, 40, 45]])"
      ]
     },
     "execution_count": 33,
     "metadata": {},
     "output_type": "execute_result"
    }
   ],
   "source": [
    "arr_2d"
   ]
  },
  {
   "cell_type": "code",
   "execution_count": 37,
   "id": "247fdf87-30b7-4eaf-a537-65036de1be36",
   "metadata": {},
   "outputs": [
    {
     "data": {
      "text/plain": [
       "array([[ 5, 10, 15],\n",
       "       [20, 25, 30]])"
      ]
     },
     "execution_count": 37,
     "metadata": {},
     "output_type": "execute_result"
    }
   ],
   "source": [
    "arr_2d[:2]"
   ]
  },
  {
   "cell_type": "markdown",
   "id": "0c97e9eb-1f78-4881-a79e-bf32002c3fa9",
   "metadata": {},
   "source": [
    "This means grab everything from 0 to 2"
   ]
  },
  {
   "cell_type": "markdown",
   "id": "4c2be2ea-9762-4b58-9448-607e2d98d3ba",
   "metadata": {},
   "source": [
    "To grab from 0 to 2, everything onwards from index 1"
   ]
  },
  {
   "cell_type": "code",
   "execution_count": 36,
   "id": "a0505cc5-5b10-46d2-b5df-dcd3b25986cb",
   "metadata": {},
   "outputs": [
    {
     "data": {
      "text/plain": [
       "array([[10, 15],\n",
       "       [25, 30]])"
      ]
     },
     "execution_count": 36,
     "metadata": {},
     "output_type": "execute_result"
    }
   ],
   "source": [
    "arr_2d[:2,1:]"
   ]
  },
  {
   "cell_type": "code",
   "execution_count": 39,
   "id": "64a0fc2b-75cd-42ba-91a4-7bf967d34c9d",
   "metadata": {},
   "outputs": [
    {
     "data": {
      "text/plain": [
       "array([[15]])"
      ]
     },
     "execution_count": 39,
     "metadata": {},
     "output_type": "execute_result"
    }
   ],
   "source": [
    "arr_2d[:1,2:]"
   ]
  },
  {
   "cell_type": "markdown",
   "id": "0b0db7d5-5be4-4183-b8a8-e81abeb42588",
   "metadata": {},
   "source": [
    "<b>More we can do: </b>\n",
    "Running comparision operator on an array creates a boolean array"
   ]
  },
  {
   "cell_type": "code",
   "execution_count": 49,
   "id": "15a14774-b356-4e5a-b19d-273c284cbfba",
   "metadata": {},
   "outputs": [],
   "source": [
    "arr=np.arange(1,11)"
   ]
  },
  {
   "cell_type": "code",
   "execution_count": 50,
   "id": "66880d97-3706-4341-9012-f58fe6ae82cb",
   "metadata": {},
   "outputs": [
    {
     "data": {
      "text/plain": [
       "array([ 1,  2,  3,  4,  5,  6,  7,  8,  9, 10])"
      ]
     },
     "execution_count": 50,
     "metadata": {},
     "output_type": "execute_result"
    }
   ],
   "source": [
    "arr"
   ]
  },
  {
   "cell_type": "code",
   "execution_count": 51,
   "id": "5a6dbe58-e119-4b36-8efa-f6fbcf711c8c",
   "metadata": {},
   "outputs": [],
   "source": [
    "bool_arr= arr >5"
   ]
  },
  {
   "cell_type": "code",
   "execution_count": 52,
   "id": "13757a96-cf21-45e4-85cb-51d24ebca4c5",
   "metadata": {},
   "outputs": [
    {
     "data": {
      "text/plain": [
       "array([False, False, False, False, False,  True,  True,  True,  True,\n",
       "        True])"
      ]
     },
     "execution_count": 52,
     "metadata": {},
     "output_type": "execute_result"
    }
   ],
   "source": [
    "bool_arr"
   ]
  },
  {
   "cell_type": "markdown",
   "id": "cd6f57eb-c667-4a2b-b2ec-79981e66e1b4",
   "metadata": {},
   "source": [
    "The code above runs a comparison operator on the array, if each element is >5 it's marked true, if not it's false"
   ]
  },
  {
   "cell_type": "markdown",
   "id": "3ae1fe6e-838b-4ac1-876c-144faa004ff6",
   "metadata": {},
   "source": [
    "From this <b> Boolean Array </b> we can index/conditionaly select items that were true from the original array <b> see below </b>"
   ]
  },
  {
   "cell_type": "code",
   "execution_count": 54,
   "id": "decd7028-d4ac-43f7-8ae8-5d95ed1957d8",
   "metadata": {},
   "outputs": [
    {
     "data": {
      "text/plain": [
       "array([ 6,  7,  8,  9, 10])"
      ]
     },
     "execution_count": 54,
     "metadata": {},
     "output_type": "execute_result"
    }
   ],
   "source": [
    "arr[bool_arr]"
   ]
  },
  {
   "cell_type": "markdown",
   "id": "bca8c184-4937-491e-b501-cb238177096f",
   "metadata": {},
   "source": [
    "normally you would do this all in <b> one-step </b>:"
   ]
  },
  {
   "cell_type": "code",
   "execution_count": 55,
   "id": "817ca74d-16de-4f7c-88cb-3841da044d1f",
   "metadata": {},
   "outputs": [
    {
     "data": {
      "text/plain": [
       "array([ 6,  7,  8,  9, 10])"
      ]
     },
     "execution_count": 55,
     "metadata": {},
     "output_type": "execute_result"
    }
   ],
   "source": [
    "arr[arr>5]"
   ]
  },
  {
   "cell_type": "markdown",
   "id": "00ec716a-2521-4a8f-a92e-9f8a618b80dc",
   "metadata": {},
   "source": [
    "If we want to know all the elements of the array that are <b>less than three:</b>"
   ]
  },
  {
   "cell_type": "code",
   "execution_count": 56,
   "id": "19a3f277-6041-4cfd-9133-f588fb41817c",
   "metadata": {},
   "outputs": [
    {
     "data": {
      "text/plain": [
       "array([1, 2])"
      ]
     },
     "execution_count": 56,
     "metadata": {},
     "output_type": "execute_result"
    }
   ],
   "source": [
    "arr[arr<3]"
   ]
  },
  {
   "cell_type": "markdown",
   "id": "e08543e1-f141-4f37-be94-2cd7ae508a12",
   "metadata": {},
   "source": [
    "<b>Review</b>"
   ]
  },
  {
   "cell_type": "code",
   "execution_count": 57,
   "id": "ab76209f-eba7-4303-80c1-c1b1bb199211",
   "metadata": {},
   "outputs": [],
   "source": [
    "arr_2d= np.arange(50).reshape(5,10)"
   ]
  },
  {
   "cell_type": "code",
   "execution_count": 63,
   "id": "6a875188-b030-4647-82b6-73b2aa695a29",
   "metadata": {},
   "outputs": [
    {
     "data": {
      "text/plain": [
       "array([[ 0,  1,  2,  3,  4,  5,  6,  7,  8,  9],\n",
       "       [10, 11, 12, 13, 14, 15, 16, 17, 18, 19],\n",
       "       [20, 21, 22, 23, 24, 25, 26, 27, 28, 29],\n",
       "       [30, 31, 32, 33, 34, 35, 36, 37, 38, 39],\n",
       "       [40, 41, 42, 43, 44, 45, 46, 47, 48, 49]])"
      ]
     },
     "execution_count": 63,
     "metadata": {},
     "output_type": "execute_result"
    }
   ],
   "source": [
    "arr_2d"
   ]
  },
  {
   "cell_type": "code",
   "execution_count": 65,
   "id": "75b8b6a2-755e-45a3-a1cc-ec7c7aa6410a",
   "metadata": {},
   "outputs": [
    {
     "data": {
      "text/plain": [
       "array([[10, 11, 12, 13, 14, 15, 16, 17, 18, 19],\n",
       "       [20, 21, 22, 23, 24, 25, 26, 27, 28, 29]])"
      ]
     },
     "execution_count": 65,
     "metadata": {},
     "output_type": "execute_result"
    }
   ],
   "source": [
    "arr_2d[1:3]"
   ]
  },
  {
   "cell_type": "code",
   "execution_count": 64,
   "id": "ed83fa2b-cd87-474d-8287-282a862700e8",
   "metadata": {},
   "outputs": [
    {
     "data": {
      "text/plain": [
       "array([[13, 14],\n",
       "       [23, 24]])"
      ]
     },
     "execution_count": 64,
     "metadata": {},
     "output_type": "execute_result"
    }
   ],
   "source": [
    "arr_2d[1:3,3:5]"
   ]
  }
 ],
 "metadata": {
  "kernelspec": {
   "display_name": "Python 3 (ipykernel)",
   "language": "python",
   "name": "python3"
  },
  "language_info": {
   "codemirror_mode": {
    "name": "ipython",
    "version": 3
   },
   "file_extension": ".py",
   "mimetype": "text/x-python",
   "name": "python",
   "nbconvert_exporter": "python",
   "pygments_lexer": "ipython3",
   "version": "3.8.2"
  }
 },
 "nbformat": 4,
 "nbformat_minor": 5
}
