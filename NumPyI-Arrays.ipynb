{
 "cells": [
  {
   "cell_type": "markdown",
   "id": "cf1febca-659f-47f4-8b87-5b124b1f5eed",
   "metadata": {},
   "source": [
    "<b> Refresher notes on NumPy </b>"
   ]
  },
  {
   "cell_type": "code",
   "execution_count": 2,
   "id": "cc623944-b401-4839-9843-41bdcd0c1bc0",
   "metadata": {},
   "outputs": [],
   "source": [
    "import numpy as np"
   ]
  },
  {
   "cell_type": "markdown",
   "id": "6d443203-b59d-4ed2-82bc-ab1b7da2910e",
   "metadata": {},
   "source": [
    "You need to import the library, you can give this a shorterned name such as <b> np </b>.\n",
    "You need it installed on the host, e.g. <i>pip install numpy </i>"
   ]
  },
  {
   "cell_type": "markdown",
   "id": "79350fac-63f7-4561-88b7-bab3f101531e",
   "metadata": {},
   "source": [
    "<b> NumPy Arrays </b>"
   ]
  },
  {
   "cell_type": "markdown",
   "id": "03141d32-b955-41c7-85ba-6d7b402794c9",
   "metadata": {},
   "source": [
    "- There are 2 main types: Vector and matrices\n",
    "- Vecors are <b> strictly 1-D </b> wheras matrices are <b> 2-D </b>\n",
    "    - However a matrix can still only have one row or one column"
   ]
  },
  {
   "cell_type": "code",
   "execution_count": 1,
   "id": "e06a2f6d-7ba0-44dc-a7d7-588372c44d80",
   "metadata": {},
   "outputs": [],
   "source": [
    "my_list = [1,2,3]"
   ]
  },
  {
   "cell_type": "markdown",
   "id": "cc173cdc-7034-4da1-af54-574dfea7738a",
   "metadata": {},
   "source": [
    "You can create a normal python list and cast it into a numpy array. Below is a version of a <b>1-dimensional</b> array"
   ]
  },
  {
   "cell_type": "code",
   "execution_count": 2,
   "id": "b3d314d1-a90a-4551-b270-79a306265f5e",
   "metadata": {},
   "outputs": [],
   "source": [
    "import numpy as np"
   ]
  },
  {
   "cell_type": "code",
   "execution_count": 4,
   "id": "51233c98-24a4-4ea2-858c-aac3b2a340f1",
   "metadata": {},
   "outputs": [],
   "source": [
    "arr = np.array(my_list)"
   ]
  },
  {
   "cell_type": "code",
   "execution_count": 5,
   "id": "ba409377-591a-4f56-b3a2-5de9020cf11e",
   "metadata": {},
   "outputs": [
    {
     "data": {
      "text/plain": [
       "array([1, 2, 3])"
      ]
     },
     "execution_count": 5,
     "metadata": {},
     "output_type": "execute_result"
    }
   ],
   "source": [
    "arr"
   ]
  },
  {
   "cell_type": "markdown",
   "id": "224d33c6-08d6-42f7-bc3e-3f7945a73fdc",
   "metadata": {},
   "source": [
    "Below is an example of a <b> 2-dimensional array </b> using a list of lists."
   ]
  },
  {
   "cell_type": "code",
   "execution_count": 6,
   "id": "868a8244-d995-4e2c-956c-70c616c0936c",
   "metadata": {},
   "outputs": [],
   "source": [
    "my_mat= [[1,2,3],[4,5,6], [7,8,9]]"
   ]
  },
  {
   "cell_type": "code",
   "execution_count": 7,
   "id": "dcf2d74f-3708-4efc-8ae8-15475e371bd2",
   "metadata": {},
   "outputs": [
    {
     "data": {
      "text/plain": [
       "array([[1, 2, 3],\n",
       "       [4, 5, 6],\n",
       "       [7, 8, 9]])"
      ]
     },
     "execution_count": 7,
     "metadata": {},
     "output_type": "execute_result"
    }
   ],
   "source": [
    "np.array(my_mat)"
   ]
  },
  {
   "cell_type": "markdown",
   "id": "7cbb31c1-fb26-46f7-9a7c-c03cdb08bf96",
   "metadata": {},
   "source": [
    "<i>2 sets of brackes indicates a 2-dimensional array </i>"
   ]
  },
  {
   "cell_type": "markdown",
   "id": "98200eae-844a-47f9-a31b-63e0a7278bd2",
   "metadata": {},
   "source": [
    "<b> Most common ways of creating arrays in NumPy </b>\n",
    "> This works like pythons own range function"
   ]
  },
  {
   "cell_type": "code",
   "execution_count": 9,
   "id": "a8698a5d-36eb-4b8c-b941-f1b028c22e30",
   "metadata": {},
   "outputs": [
    {
     "data": {
      "text/plain": [
       "array([0, 1, 2, 3, 4, 5, 6, 7, 8, 9])"
      ]
     },
     "execution_count": 9,
     "metadata": {},
     "output_type": "execute_result"
    }
   ],
   "source": [
    "np.arange(0,10)"
   ]
  },
  {
   "cell_type": "markdown",
   "id": "c2fcda2d-9a3e-4cb8-b9dc-7e52a625f195",
   "metadata": {},
   "source": [
    "<b>We can add in a step size too: </b>"
   ]
  },
  {
   "cell_type": "code",
   "execution_count": 12,
   "id": "3b2bbfe6-f54b-4d40-9748-ad7ac355ee33",
   "metadata": {},
   "outputs": [
    {
     "data": {
      "text/plain": [
       "array([ 0,  2,  4,  6,  8, 10])"
      ]
     },
     "execution_count": 12,
     "metadata": {},
     "output_type": "execute_result"
    }
   ],
   "source": [
    "np.arange(0,11,2)"
   ]
  },
  {
   "cell_type": "code",
   "execution_count": 13,
   "id": "df459ab9-1f54-4676-b083-b5c80e1e7b0d",
   "metadata": {},
   "outputs": [
    {
     "data": {
      "text/plain": [
       "array([0., 0., 0.])"
      ]
     },
     "execution_count": 13,
     "metadata": {},
     "output_type": "execute_result"
    }
   ],
   "source": [
    "np.zeros(3)"
   ]
  },
  {
   "cell_type": "markdown",
   "id": "d74fca64-f95e-4c23-a147-fd8d1d931192",
   "metadata": {},
   "source": [
    "Passes a tuple to create an array of <b> 5 columns and 2 rows </b>"
   ]
  },
  {
   "cell_type": "code",
   "execution_count": 16,
   "id": "163b708a-30b0-4a0e-aff1-6d4d156a5ed0",
   "metadata": {},
   "outputs": [
    {
     "data": {
      "text/plain": [
       "array([[0., 0., 0., 0., 0.],\n",
       "       [0., 0., 0., 0., 0.]])"
      ]
     },
     "execution_count": 16,
     "metadata": {},
     "output_type": "execute_result"
    }
   ],
   "source": [
    "np.zeros((2,5))"
   ]
  },
  {
   "cell_type": "markdown",
   "id": "def78a56-0754-424c-ab33-f85d8f15c8a5",
   "metadata": {},
   "source": [
    "<b> Linspace </b>\n",
    "Returns evenly spaced numbers over a specified interval\n",
    " <i> np.linspace(start, stop, number of points) </i>"
   ]
  },
  {
   "cell_type": "code",
   "execution_count": 17,
   "id": "b60e19ee-1e36-4fc0-8d14-611bac3d1a44",
   "metadata": {},
   "outputs": [
    {
     "data": {
      "text/plain": [
       "array([0.        , 0.55555556, 1.11111111, 1.66666667, 2.22222222,\n",
       "       2.77777778, 3.33333333, 3.88888889, 4.44444444, 5.        ])"
      ]
     },
     "execution_count": 17,
     "metadata": {},
     "output_type": "execute_result"
    }
   ],
   "source": [
    "np.linspace(0,5,10)"
   ]
  },
  {
   "cell_type": "markdown",
   "id": "9e317204-9a9a-4dcc-9254-ed904fbb7b93",
   "metadata": {},
   "source": [
    "<b> Identity Matrix using eye</b>\n",
    "> Creates a square matrix"
   ]
  },
  {
   "cell_type": "code",
   "execution_count": 19,
   "id": "06ca2c25-12eb-4ab7-a0cb-511b05521d5f",
   "metadata": {},
   "outputs": [
    {
     "data": {
      "text/plain": [
       "array([[1., 0., 0., 0.],\n",
       "       [0., 1., 0., 0.],\n",
       "       [0., 0., 1., 0.],\n",
       "       [0., 0., 0., 1.]])"
      ]
     },
     "execution_count": 19,
     "metadata": {},
     "output_type": "execute_result"
    }
   ],
   "source": [
    "np.eye(4)"
   ]
  },
  {
   "cell_type": "markdown",
   "id": "156522b6-c815-44ce-9bf8-70fe5210b67a",
   "metadata": {},
   "source": [
    "<b> RANDOM </b>\n",
    "> Creating an array of random numbers"
   ]
  },
  {
   "cell_type": "markdown",
   "id": "94aacec0-e816-4f97-ae5e-bd9066a6bf45",
   "metadata": {},
   "source": [
    "<i> this generates a 1-D array </i>"
   ]
  },
  {
   "cell_type": "code",
   "execution_count": 20,
   "id": "c1258d53-f394-42e8-8975-972d7774c1b8",
   "metadata": {},
   "outputs": [
    {
     "data": {
      "text/plain": [
       "array([0.60301414, 0.15839413, 0.10183566, 0.71664141, 0.38266295])"
      ]
     },
     "execution_count": 20,
     "metadata": {},
     "output_type": "execute_result"
    }
   ],
   "source": [
    "np.random.rand(5)"
   ]
  },
  {
   "cell_type": "markdown",
   "id": "7199723d-7e95-4b0b-bddc-daf866e0745b",
   "metadata": {},
   "source": [
    "<i> this generates a 2-D array </i>"
   ]
  },
  {
   "cell_type": "code",
   "execution_count": 22,
   "id": "87ecef6c-5b6f-4ae6-9353-c22b526bced6",
   "metadata": {},
   "outputs": [
    {
     "data": {
      "text/plain": [
       "array([[0.64388893, 0.55843876, 0.55644582, 0.04669549, 0.17746183],\n",
       "       [0.40329114, 0.16802095, 0.58316436, 0.06854954, 0.82846608],\n",
       "       [0.93545327, 0.00683143, 0.13568572, 0.42281331, 0.92898749],\n",
       "       [0.85885034, 0.0275311 , 0.28088369, 0.56677665, 0.50291299],\n",
       "       [0.5431676 , 0.91739853, 0.82501272, 0.7149855 , 0.14647652]])"
      ]
     },
     "execution_count": 22,
     "metadata": {},
     "output_type": "execute_result"
    }
   ],
   "source": [
    "np.random.rand(5,5)"
   ]
  },
  {
   "cell_type": "markdown",
   "id": "7239af72-6187-493b-af56-0c9e1774e3df",
   "metadata": {},
   "source": [
    "<b> RANDN </b>\n",
    "> returns from a normal  distribution centred around 0 rather than 1"
   ]
  },
  {
   "cell_type": "code",
   "execution_count": 23,
   "id": "ad4cf86f-af39-46b7-8834-3237cef5938f",
   "metadata": {},
   "outputs": [
    {
     "data": {
      "text/plain": [
       "array([-0.53398535, -0.73977159])"
      ]
     },
     "execution_count": 23,
     "metadata": {},
     "output_type": "execute_result"
    }
   ],
   "source": [
    "np.random.randn(2)"
   ]
  },
  {
   "cell_type": "code",
   "execution_count": 24,
   "id": "0b1ea3a8-67e1-45d1-ab66-0f95fc26eabb",
   "metadata": {},
   "outputs": [
    {
     "data": {
      "text/plain": [
       "array([[ 0.13038427,  0.52055107,  0.18844343,  1.0790408 ],\n",
       "       [-0.74414412, -0.24861549, -1.68410512, -0.05000609],\n",
       "       [-0.08204239,  0.52390779,  1.00584101,  0.56402211],\n",
       "       [-0.15883052,  0.98087651,  1.12596636, -0.14598639]])"
      ]
     },
     "execution_count": 24,
     "metadata": {},
     "output_type": "execute_result"
    }
   ],
   "source": [
    "np.random.randn(4,4)"
   ]
  },
  {
   "cell_type": "markdown",
   "id": "ad02512c-3cad-4b73-8f8a-e17113678d2b",
   "metadata": {},
   "source": [
    "<b> RNDINT </b>\n",
    "> Returns random integers from low to high\n",
    "    > Low is <b> inclusive </b>\n",
    "    > High is <b> exclusive </b>"
   ]
  },
  {
   "cell_type": "code",
   "execution_count": 26,
   "id": "5ea8fcae-a69c-40f1-88bd-c3608d871f97",
   "metadata": {},
   "outputs": [
    {
     "data": {
      "text/plain": [
       "48"
      ]
     },
     "execution_count": 26,
     "metadata": {},
     "output_type": "execute_result"
    }
   ],
   "source": [
    "np.random.randint(1,100)"
   ]
  },
  {
   "cell_type": "markdown",
   "id": "7488cecb-fcf3-49d1-ba65-4dd97466d8d1",
   "metadata": {},
   "source": [
    "We can also specifiy how many random integers we want to be produced"
   ]
  },
  {
   "cell_type": "code",
   "execution_count": 28,
   "id": "f5a65f95-3a24-4816-b538-555cd26c1b16",
   "metadata": {},
   "outputs": [
    {
     "data": {
      "text/plain": [
       "array([ 6, 95,  1, 62, 17])"
      ]
     },
     "execution_count": 28,
     "metadata": {},
     "output_type": "execute_result"
    }
   ],
   "source": [
    "np.random.randint(1,100,5)"
   ]
  },
  {
   "cell_type": "markdown",
   "id": "2484e49b-e95a-42ac-bdf4-5f66bf67e1f4",
   "metadata": {},
   "source": [
    "<b> Useful attributes of an array </b>"
   ]
  },
  {
   "cell_type": "code",
   "execution_count": 29,
   "id": "e63609eb-606f-4103-a99d-a4736f6c9866",
   "metadata": {},
   "outputs": [],
   "source": [
    "arr= np.arange(25)"
   ]
  },
  {
   "cell_type": "code",
   "execution_count": 30,
   "id": "cbb90471-20b4-4ab7-a25e-8b7c63e4293c",
   "metadata": {},
   "outputs": [
    {
     "data": {
      "text/plain": [
       "array([ 0,  1,  2,  3,  4,  5,  6,  7,  8,  9, 10, 11, 12, 13, 14, 15, 16,\n",
       "       17, 18, 19, 20, 21, 22, 23, 24])"
      ]
     },
     "execution_count": 30,
     "metadata": {},
     "output_type": "execute_result"
    }
   ],
   "source": [
    "arr"
   ]
  },
  {
   "cell_type": "code",
   "execution_count": 31,
   "id": "0f0d00ef-f8c0-4b56-aead-449927d94315",
   "metadata": {},
   "outputs": [],
   "source": [
    "ranarr= np.random.randint(0,50,10)"
   ]
  },
  {
   "cell_type": "code",
   "execution_count": 32,
   "id": "b6104191-d5fb-488e-b712-c1542d01934b",
   "metadata": {},
   "outputs": [
    {
     "data": {
      "text/plain": [
       "array([41, 35, 11, 33, 23, 13,  9, 31, 26,  5])"
      ]
     },
     "execution_count": 32,
     "metadata": {},
     "output_type": "execute_result"
    }
   ],
   "source": [
    "ranarr"
   ]
  },
  {
   "cell_type": "markdown",
   "id": "cc3e2f6c-1932-4665-a023-9d90078b5da9",
   "metadata": {},
   "source": [
    "<b> Reshape method </b>"
   ]
  },
  {
   "cell_type": "markdown",
   "id": "38470efc-c69a-4404-86d0-2ad7f30a30bd",
   "metadata": {},
   "source": [
    "Returns an array containing the same data with a new shape."
   ]
  },
  {
   "cell_type": "code",
   "execution_count": 34,
   "id": "637a5a54-7e8e-4b17-8cce-c9fd9e7508a3",
   "metadata": {},
   "outputs": [
    {
     "data": {
      "text/plain": [
       "array([ 0,  1,  2,  3,  4,  5,  6,  7,  8,  9, 10, 11, 12, 13, 14, 15, 16,\n",
       "       17, 18, 19, 20, 21, 22, 23, 24])"
      ]
     },
     "execution_count": 34,
     "metadata": {},
     "output_type": "execute_result"
    }
   ],
   "source": [
    "arr"
   ]
  },
  {
   "cell_type": "code",
   "execution_count": 33,
   "id": "00f8bd1b-e487-44cc-b6a8-98e637328910",
   "metadata": {},
   "outputs": [
    {
     "data": {
      "text/plain": [
       "array([[ 0,  1,  2,  3,  4],\n",
       "       [ 5,  6,  7,  8,  9],\n",
       "       [10, 11, 12, 13, 14],\n",
       "       [15, 16, 17, 18, 19],\n",
       "       [20, 21, 22, 23, 24]])"
      ]
     },
     "execution_count": 33,
     "metadata": {},
     "output_type": "execute_result"
    }
   ],
   "source": [
    "arr.reshape(5,5)"
   ]
  },
  {
   "cell_type": "markdown",
   "id": "70cbeb72-ee69-4a67-a983-8e3eb223bded",
   "metadata": {},
   "source": [
    "Total size of the array must be unchanged. Rows multiplied by columns must be the same amount of elements in the OG one"
   ]
  },
  {
   "cell_type": "markdown",
   "id": "5457548d-fa4d-4115-b65f-e494d9e003e0",
   "metadata": {},
   "source": [
    "<b>Max, Min, Index </b>"
   ]
  },
  {
   "cell_type": "code",
   "execution_count": 35,
   "id": "3f49da1d-bb54-4923-86ad-0aaeeecff431",
   "metadata": {},
   "outputs": [
    {
     "data": {
      "text/plain": [
       "41"
      ]
     },
     "execution_count": 35,
     "metadata": {},
     "output_type": "execute_result"
    }
   ],
   "source": [
    "ranarr.max()"
   ]
  },
  {
   "cell_type": "code",
   "execution_count": 36,
   "id": "75f412f4-91f7-4847-ad4d-288a3399e1f3",
   "metadata": {},
   "outputs": [
    {
     "data": {
      "text/plain": [
       "5"
      ]
     },
     "execution_count": 36,
     "metadata": {},
     "output_type": "execute_result"
    }
   ],
   "source": [
    "ranarr.min()"
   ]
  },
  {
   "cell_type": "code",
   "execution_count": 37,
   "id": "1fc6cb1b-6eb2-4f27-9a6d-2efd863ccb5a",
   "metadata": {},
   "outputs": [
    {
     "data": {
      "text/plain": [
       "array([41, 35, 11, 33, 23, 13,  9, 31, 26,  5])"
      ]
     },
     "execution_count": 37,
     "metadata": {},
     "output_type": "execute_result"
    }
   ],
   "source": [
    "ranarr"
   ]
  },
  {
   "cell_type": "code",
   "execution_count": 38,
   "id": "8c90f250-c316-4691-8d84-fe35fa72a87c",
   "metadata": {},
   "outputs": [
    {
     "data": {
      "text/plain": [
       "0"
      ]
     },
     "execution_count": 38,
     "metadata": {},
     "output_type": "execute_result"
    }
   ],
   "source": [
    "ranarr.argmax()"
   ]
  },
  {
   "cell_type": "code",
   "execution_count": 39,
   "id": "7414e9e5-7feb-4479-a92c-7b7d9ab8975d",
   "metadata": {},
   "outputs": [
    {
     "data": {
      "text/plain": [
       "9"
      ]
     },
     "execution_count": 39,
     "metadata": {},
     "output_type": "execute_result"
    }
   ],
   "source": [
    "ranarr.argmin()"
   ]
  },
  {
   "cell_type": "markdown",
   "id": "6fbbe66a-0d09-4c4e-9797-8df6b4604833",
   "metadata": {},
   "source": [
    "<b> Shape of a vector </b>"
   ]
  },
  {
   "cell_type": "code",
   "execution_count": 41,
   "id": "9ee25c16-6d11-4034-865e-d7fc8d8182eb",
   "metadata": {},
   "outputs": [
    {
     "data": {
      "text/plain": [
       "(25,)"
      ]
     },
     "execution_count": 41,
     "metadata": {},
     "output_type": "execute_result"
    }
   ],
   "source": [
    "arr.shape"
   ]
  },
  {
   "cell_type": "markdown",
   "id": "c6b613e1-4b51-41ec-9fec-08ed733a2546",
   "metadata": {},
   "source": [
    "The above shows that it's <b> 1-dimensional </b>"
   ]
  },
  {
   "cell_type": "code",
   "execution_count": 42,
   "id": "07a9d4a1-d849-4fc3-8d95-75fa3302b782",
   "metadata": {},
   "outputs": [],
   "source": [
    "arr= arr.reshape(5,5)"
   ]
  },
  {
   "cell_type": "code",
   "execution_count": 43,
   "id": "ae635bc9-6334-4c12-a7ed-5a6ed2504ca7",
   "metadata": {},
   "outputs": [
    {
     "data": {
      "text/plain": [
       "(5, 5)"
      ]
     },
     "execution_count": 43,
     "metadata": {},
     "output_type": "execute_result"
    }
   ],
   "source": [
    "arr.shape"
   ]
  },
  {
   "cell_type": "markdown",
   "id": "fd6ed897-aa6c-442e-b7b1-0b9ba9f10cf4",
   "metadata": {},
   "source": [
    "The above shows that it's <b> 2-dimensional </b>"
   ]
  },
  {
   "cell_type": "markdown",
   "id": "cede4079-132a-4532-8fc7-f6245fdbaade",
   "metadata": {},
   "source": [
    "<b> DTYPE </b>\n",
    "stype shows the data type"
   ]
  },
  {
   "cell_type": "code",
   "execution_count": 46,
   "id": "07015196-61b4-4555-aa50-66a259ec710b",
   "metadata": {},
   "outputs": [
    {
     "data": {
      "text/plain": [
       "dtype('int64')"
      ]
     },
     "execution_count": 46,
     "metadata": {},
     "output_type": "execute_result"
    }
   ],
   "source": [
    "arr.dtype"
   ]
  },
  {
   "cell_type": "code",
   "execution_count": 47,
   "id": "2b1661b4-f0f8-4fcc-b0bb-29c331352a6d",
   "metadata": {},
   "outputs": [],
   "source": [
    "from numpy.random import randint"
   ]
  },
  {
   "cell_type": "code",
   "execution_count": 48,
   "id": "c565da90-2bf6-4223-9afa-fe6619887626",
   "metadata": {},
   "outputs": [
    {
     "data": {
      "text/plain": [
       "6"
      ]
     },
     "execution_count": 48,
     "metadata": {},
     "output_type": "execute_result"
    }
   ],
   "source": [
    "randint(2,10)"
   ]
  }
 ],
 "metadata": {
  "kernelspec": {
   "display_name": "Python 3 (ipykernel)",
   "language": "python",
   "name": "python3"
  },
  "language_info": {
   "codemirror_mode": {
    "name": "ipython",
    "version": 3
   },
   "file_extension": ".py",
   "mimetype": "text/x-python",
   "name": "python",
   "nbconvert_exporter": "python",
   "pygments_lexer": "ipython3",
   "version": "3.8.2"
  }
 },
 "nbformat": 4,
 "nbformat_minor": 5
}
